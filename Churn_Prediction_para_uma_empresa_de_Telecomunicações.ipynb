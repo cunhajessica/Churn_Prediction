{
  "nbformat": 4,
  "nbformat_minor": 0,
  "metadata": {
    "colab": {
      "name": "Churn Prediction para uma empresa de Telecomunicações.ipynb",
      "provenance": [],
      "collapsed_sections": [],
      "include_colab_link": true
    },
    "kernelspec": {
      "name": "python3",
      "display_name": "Python 3"
    }
  },
  "cells": [
    {
      "cell_type": "markdown",
      "metadata": {
        "id": "view-in-github",
        "colab_type": "text"
      },
      "source": [
        "<a href=\"https://colab.research.google.com/github/cunhajessica/Churn_Prediction/blob/main/Churn_Prediction_para_uma_empresa_de_Telecomunica%C3%A7%C3%B5es.ipynb\" target=\"_parent\"><img src=\"https://colab.research.google.com/assets/colab-badge.svg\" alt=\"Open In Colab\"/></a>"
      ]
    },
    {
      "cell_type": "markdown",
      "metadata": {
        "id": "sC2BFMOKN1M7"
      },
      "source": [
        "---\n",
        "<img alt=\"Colaboratory logo\" width=\"15%\" src=\"https://raw.githubusercontent.com/carlosfab/escola-data-science/master/img/novo_logo_bg_claro.png\">\n",
        "\n",
        "\n",
        "**by Jéssica Cunha**  \n",
        "\n",
        "---"
      ]
    },
    {
      "cell_type": "markdown",
      "metadata": {
        "id": "IR56trFcPcC1"
      },
      "source": [
        "# **Churn Prediction - Previsão de cancelamento de serviços de Telecomunicações**\n",
        "\n",
        "Hoje em dia, manter um cliente satisfeito por um longo período, não é uma tarefa fácil, ainda mais, quando se tem diversas opções disponíveis. Pra não perder o cliente, é necessário que ele tenha a melhor experiência possível.\n",
        "\n",
        "*Churn rate*, ou simplesmente *churn*, representa a taxa de evasão da sua base de clientes. Em serviços como Spotify ou Netflix, ela representaria a taxa de cancelamento de assinaturas.\n",
        "\n",
        "<p align=center>\n",
        "<img src=\"https://raw.githubusercontent.com/carlosfab/dsnp2/master/img/churnrate.jpg\" width=\"60%\"></p>\n",
        "\n",
        "Ela é de extrema importância para a administração e sua análise ao longo do tempo, porque o Custo da aquisição de novos clientes geralmente é mais alto do que o custo para manter os clientes que já possuem a assinatura.\n",
        "\n",
        "*Churn* pode ser usado para identificar potenciais cancelamentos, com um tempo de antecedência, e promover ações direcionadas para tentar reter tais clientes. "
      ]
    },
    {
      "cell_type": "markdown",
      "metadata": {
        "id": "0HVmpIxQWT4Y"
      },
      "source": [
        "## **Aquisição dos Dados**\n",
        "\n",
        "Os dados utilizados neste projeto foram originalmente disponibilizados na [plataforma de ensino da IBM Developer](https://developer.ibm.com/technologies/data-science/patterns/predict-customer-churn-using-watson-studio-and-jupyter-notebooks/#), e tratam de um problema típico de uma companhia de telecomunicações. O *dataset* completo pode ser encontrado [neste link](https://raw.githubusercontent.com/carlosfab/dsnp2/master/datasets/WA_Fn-UseC_-Telco-Customer-Churn.csv).\n",
        "\n",
        "Apesar de não haver informações explícitas disponíves, os nomes das colunas permitem um entendimento a respeito do problema."
      ]
    },
    {
      "cell_type": "markdown",
      "source": [
        "### Dicionário das variáveis:\n",
        "\n",
        "* `customerID` - Código de identificação do cliente.\n",
        "* `gender` - Gênero do cliente.\n",
        "* `SeniorCitizen` - Cliente com mais de 65 anos\n",
        "* `Partner` - Cliente casado\n",
        "* `Dependents` - Cliente que tem filhos\n",
        "* `tenure` - Tempo que o cliente está com o plano (em meses).\n",
        "* `PhoneService` - Possui serviço telefônico\n",
        "* `MultipleLines` - Possui mais de um serviço\n",
        "* `InternetService` - Possui serviço de internet\n",
        "* `OnlineSecurity` - Possui seguro online\n",
        "* `OnlineBackup` - Possui backup automatizado\n",
        "* `DeviceProtection` - Possui proteção do dispositivo\n",
        "* `TechSupport` - Possui suporte técnico ativado\n",
        "* `StreamingTV` - Possui serviço de TV Streaming ativado\n",
        "* `StreamingMovies` - Possui serviço de filmes Streaming ativado\n",
        "* `Contract` - Tipo de contrato\n",
        "* `PaperlessBilling` - Faturamento sem papel ativado\n",
        "* `PaymentMethod` - Método de pagamento\n",
        "* `MonthlyCharges` - Valor mensal pago pelo cliente\n",
        "* `TotalCharges` - Valor total que o cliente pagou até o momento\n",
        "* `Churn` - Clientes que cancelaram o serviço"
      ],
      "metadata": {
        "id": "uzw78HvxDjRf"
      }
    },
    {
      "cell_type": "markdown",
      "source": [
        "## **Análise Exploratória dos Dados**\n",
        "\n"
      ],
      "metadata": {
        "id": "eyLGJSQYPQ62"
      }
    },
    {
      "cell_type": "code",
      "metadata": {
        "id": "r9ZSROzUfQAj"
      },
      "source": [
        "# instalando os pacotes necessários\n",
        "!pip install scikit-plot -q\n",
        "!pip install imbalanced-learn -q"
      ],
      "execution_count": null,
      "outputs": []
    },
    {
      "cell_type": "code",
      "metadata": {
        "id": "oQ4bNy7udtEE"
      },
      "source": [
        "# retirando os warnings do código\n",
        "from warnings import simplefilter\n",
        "simplefilter(action='ignore', category=FutureWarning)\n",
        "\n",
        "# importando os pacotes para a análise dos dados\n",
        "import pandas as pd\n",
        "import numpy as np\n",
        "import matplotlib.pyplot as plt\n",
        "%matplotlib inline\n",
        "import seaborn as sns\n",
        "\n",
        "# importando o pacote para balanceamento dos dados\n",
        "from imblearn.under_sampling import RandomUnderSampler\n",
        "from imblearn.over_sampling import SMOTE\n",
        "\n",
        "# importando os pacotes sklearn\n",
        "from sklearn.metrics import roc_auc_score, accuracy_score, f1_score, confusion_matrix, classification_report\n",
        "from scikitplot.metrics import plot_confusion_matrix, plot_roc\n",
        "from sklearn.preprocessing import StandardScaler, LabelEncoder\n",
        "from sklearn.pipeline import make_pipeline\n",
        "from sklearn.model_selection import train_test_split\n",
        "from sklearn.model_selection import cross_val_score\n",
        "from sklearn.model_selection import StratifiedKFold\n",
        "from sklearn.model_selection import GridSearchCV\n",
        "from sklearn.svm import SVC\n",
        "from sklearn.linear_model import SGDClassifier\n",
        "from sklearn.tree import DecisionTreeClassifier\n",
        "from sklearn.linear_model import LogisticRegression\n",
        "from sklearn.ensemble import RandomForestClassifier\n",
        "\n",
        "#importando o classificador do xgboost\n",
        "from xgboost import XGBClassifier\n",
        "\n",
        "#importando o classificador do LGBM\n",
        "from lightgbm import LGBMClassifier"
      ],
      "execution_count": null,
      "outputs": []
    },
    {
      "cell_type": "code",
      "source": [
        "# importando os dados\n",
        "DATA_PATH = \"https://raw.githubusercontent.com/carlosfab/dsnp2/master/datasets/WA_Fn-UseC_-Telco-Customer-Churn.csv\"\n",
        "df = pd.read_csv(DATA_PATH)\n",
        "\n",
        "# ver as 5 primeiras entradas\n",
        "df.head()"
      ],
      "metadata": {
        "colab": {
          "base_uri": "https://localhost:8080/",
          "height": 386
        },
        "id": "0THMYoAmCV2R",
        "outputId": "d066aa62-091d-43b2-f924-e5dc0dea6912"
      },
      "execution_count": null,
      "outputs": [
        {
          "output_type": "execute_result",
          "data": {
            "text/plain": [
              "   customerID  gender  SeniorCitizen Partner Dependents  tenure PhoneService  \\\n",
              "0  7590-VHVEG  Female              0     Yes         No       1           No   \n",
              "1  5575-GNVDE    Male              0      No         No      34          Yes   \n",
              "2  3668-QPYBK    Male              0      No         No       2          Yes   \n",
              "3  7795-CFOCW    Male              0      No         No      45           No   \n",
              "4  9237-HQITU  Female              0      No         No       2          Yes   \n",
              "\n",
              "      MultipleLines InternetService OnlineSecurity  ... DeviceProtection  \\\n",
              "0  No phone service             DSL             No  ...               No   \n",
              "1                No             DSL            Yes  ...              Yes   \n",
              "2                No             DSL            Yes  ...               No   \n",
              "3  No phone service             DSL            Yes  ...              Yes   \n",
              "4                No     Fiber optic             No  ...               No   \n",
              "\n",
              "  TechSupport StreamingTV StreamingMovies        Contract PaperlessBilling  \\\n",
              "0          No          No              No  Month-to-month              Yes   \n",
              "1          No          No              No        One year               No   \n",
              "2          No          No              No  Month-to-month              Yes   \n",
              "3         Yes          No              No        One year               No   \n",
              "4          No          No              No  Month-to-month              Yes   \n",
              "\n",
              "               PaymentMethod MonthlyCharges  TotalCharges Churn  \n",
              "0           Electronic check          29.85         29.85    No  \n",
              "1               Mailed check          56.95        1889.5    No  \n",
              "2               Mailed check          53.85        108.15   Yes  \n",
              "3  Bank transfer (automatic)          42.30       1840.75    No  \n",
              "4           Electronic check          70.70        151.65   Yes  \n",
              "\n",
              "[5 rows x 21 columns]"
            ],
            "text/html": [
              "\n",
              "  <div id=\"df-a6e7c239-63b7-4fa6-9b54-9820ad9734fa\">\n",
              "    <div class=\"colab-df-container\">\n",
              "      <div>\n",
              "<style scoped>\n",
              "    .dataframe tbody tr th:only-of-type {\n",
              "        vertical-align: middle;\n",
              "    }\n",
              "\n",
              "    .dataframe tbody tr th {\n",
              "        vertical-align: top;\n",
              "    }\n",
              "\n",
              "    .dataframe thead th {\n",
              "        text-align: right;\n",
              "    }\n",
              "</style>\n",
              "<table border=\"1\" class=\"dataframe\">\n",
              "  <thead>\n",
              "    <tr style=\"text-align: right;\">\n",
              "      <th></th>\n",
              "      <th>customerID</th>\n",
              "      <th>gender</th>\n",
              "      <th>SeniorCitizen</th>\n",
              "      <th>Partner</th>\n",
              "      <th>Dependents</th>\n",
              "      <th>tenure</th>\n",
              "      <th>PhoneService</th>\n",
              "      <th>MultipleLines</th>\n",
              "      <th>InternetService</th>\n",
              "      <th>OnlineSecurity</th>\n",
              "      <th>...</th>\n",
              "      <th>DeviceProtection</th>\n",
              "      <th>TechSupport</th>\n",
              "      <th>StreamingTV</th>\n",
              "      <th>StreamingMovies</th>\n",
              "      <th>Contract</th>\n",
              "      <th>PaperlessBilling</th>\n",
              "      <th>PaymentMethod</th>\n",
              "      <th>MonthlyCharges</th>\n",
              "      <th>TotalCharges</th>\n",
              "      <th>Churn</th>\n",
              "    </tr>\n",
              "  </thead>\n",
              "  <tbody>\n",
              "    <tr>\n",
              "      <th>0</th>\n",
              "      <td>7590-VHVEG</td>\n",
              "      <td>Female</td>\n",
              "      <td>0</td>\n",
              "      <td>Yes</td>\n",
              "      <td>No</td>\n",
              "      <td>1</td>\n",
              "      <td>No</td>\n",
              "      <td>No phone service</td>\n",
              "      <td>DSL</td>\n",
              "      <td>No</td>\n",
              "      <td>...</td>\n",
              "      <td>No</td>\n",
              "      <td>No</td>\n",
              "      <td>No</td>\n",
              "      <td>No</td>\n",
              "      <td>Month-to-month</td>\n",
              "      <td>Yes</td>\n",
              "      <td>Electronic check</td>\n",
              "      <td>29.85</td>\n",
              "      <td>29.85</td>\n",
              "      <td>No</td>\n",
              "    </tr>\n",
              "    <tr>\n",
              "      <th>1</th>\n",
              "      <td>5575-GNVDE</td>\n",
              "      <td>Male</td>\n",
              "      <td>0</td>\n",
              "      <td>No</td>\n",
              "      <td>No</td>\n",
              "      <td>34</td>\n",
              "      <td>Yes</td>\n",
              "      <td>No</td>\n",
              "      <td>DSL</td>\n",
              "      <td>Yes</td>\n",
              "      <td>...</td>\n",
              "      <td>Yes</td>\n",
              "      <td>No</td>\n",
              "      <td>No</td>\n",
              "      <td>No</td>\n",
              "      <td>One year</td>\n",
              "      <td>No</td>\n",
              "      <td>Mailed check</td>\n",
              "      <td>56.95</td>\n",
              "      <td>1889.5</td>\n",
              "      <td>No</td>\n",
              "    </tr>\n",
              "    <tr>\n",
              "      <th>2</th>\n",
              "      <td>3668-QPYBK</td>\n",
              "      <td>Male</td>\n",
              "      <td>0</td>\n",
              "      <td>No</td>\n",
              "      <td>No</td>\n",
              "      <td>2</td>\n",
              "      <td>Yes</td>\n",
              "      <td>No</td>\n",
              "      <td>DSL</td>\n",
              "      <td>Yes</td>\n",
              "      <td>...</td>\n",
              "      <td>No</td>\n",
              "      <td>No</td>\n",
              "      <td>No</td>\n",
              "      <td>No</td>\n",
              "      <td>Month-to-month</td>\n",
              "      <td>Yes</td>\n",
              "      <td>Mailed check</td>\n",
              "      <td>53.85</td>\n",
              "      <td>108.15</td>\n",
              "      <td>Yes</td>\n",
              "    </tr>\n",
              "    <tr>\n",
              "      <th>3</th>\n",
              "      <td>7795-CFOCW</td>\n",
              "      <td>Male</td>\n",
              "      <td>0</td>\n",
              "      <td>No</td>\n",
              "      <td>No</td>\n",
              "      <td>45</td>\n",
              "      <td>No</td>\n",
              "      <td>No phone service</td>\n",
              "      <td>DSL</td>\n",
              "      <td>Yes</td>\n",
              "      <td>...</td>\n",
              "      <td>Yes</td>\n",
              "      <td>Yes</td>\n",
              "      <td>No</td>\n",
              "      <td>No</td>\n",
              "      <td>One year</td>\n",
              "      <td>No</td>\n",
              "      <td>Bank transfer (automatic)</td>\n",
              "      <td>42.30</td>\n",
              "      <td>1840.75</td>\n",
              "      <td>No</td>\n",
              "    </tr>\n",
              "    <tr>\n",
              "      <th>4</th>\n",
              "      <td>9237-HQITU</td>\n",
              "      <td>Female</td>\n",
              "      <td>0</td>\n",
              "      <td>No</td>\n",
              "      <td>No</td>\n",
              "      <td>2</td>\n",
              "      <td>Yes</td>\n",
              "      <td>No</td>\n",
              "      <td>Fiber optic</td>\n",
              "      <td>No</td>\n",
              "      <td>...</td>\n",
              "      <td>No</td>\n",
              "      <td>No</td>\n",
              "      <td>No</td>\n",
              "      <td>No</td>\n",
              "      <td>Month-to-month</td>\n",
              "      <td>Yes</td>\n",
              "      <td>Electronic check</td>\n",
              "      <td>70.70</td>\n",
              "      <td>151.65</td>\n",
              "      <td>Yes</td>\n",
              "    </tr>\n",
              "  </tbody>\n",
              "</table>\n",
              "<p>5 rows × 21 columns</p>\n",
              "</div>\n",
              "      <button class=\"colab-df-convert\" onclick=\"convertToInteractive('df-a6e7c239-63b7-4fa6-9b54-9820ad9734fa')\"\n",
              "              title=\"Convert this dataframe to an interactive table.\"\n",
              "              style=\"display:none;\">\n",
              "        \n",
              "  <svg xmlns=\"http://www.w3.org/2000/svg\" height=\"24px\"viewBox=\"0 0 24 24\"\n",
              "       width=\"24px\">\n",
              "    <path d=\"M0 0h24v24H0V0z\" fill=\"none\"/>\n",
              "    <path d=\"M18.56 5.44l.94 2.06.94-2.06 2.06-.94-2.06-.94-.94-2.06-.94 2.06-2.06.94zm-11 1L8.5 8.5l.94-2.06 2.06-.94-2.06-.94L8.5 2.5l-.94 2.06-2.06.94zm10 10l.94 2.06.94-2.06 2.06-.94-2.06-.94-.94-2.06-.94 2.06-2.06.94z\"/><path d=\"M17.41 7.96l-1.37-1.37c-.4-.4-.92-.59-1.43-.59-.52 0-1.04.2-1.43.59L10.3 9.45l-7.72 7.72c-.78.78-.78 2.05 0 2.83L4 21.41c.39.39.9.59 1.41.59.51 0 1.02-.2 1.41-.59l7.78-7.78 2.81-2.81c.8-.78.8-2.07 0-2.86zM5.41 20L4 18.59l7.72-7.72 1.47 1.35L5.41 20z\"/>\n",
              "  </svg>\n",
              "      </button>\n",
              "      \n",
              "  <style>\n",
              "    .colab-df-container {\n",
              "      display:flex;\n",
              "      flex-wrap:wrap;\n",
              "      gap: 12px;\n",
              "    }\n",
              "\n",
              "    .colab-df-convert {\n",
              "      background-color: #E8F0FE;\n",
              "      border: none;\n",
              "      border-radius: 50%;\n",
              "      cursor: pointer;\n",
              "      display: none;\n",
              "      fill: #1967D2;\n",
              "      height: 32px;\n",
              "      padding: 0 0 0 0;\n",
              "      width: 32px;\n",
              "    }\n",
              "\n",
              "    .colab-df-convert:hover {\n",
              "      background-color: #E2EBFA;\n",
              "      box-shadow: 0px 1px 2px rgba(60, 64, 67, 0.3), 0px 1px 3px 1px rgba(60, 64, 67, 0.15);\n",
              "      fill: #174EA6;\n",
              "    }\n",
              "\n",
              "    [theme=dark] .colab-df-convert {\n",
              "      background-color: #3B4455;\n",
              "      fill: #D2E3FC;\n",
              "    }\n",
              "\n",
              "    [theme=dark] .colab-df-convert:hover {\n",
              "      background-color: #434B5C;\n",
              "      box-shadow: 0px 1px 3px 1px rgba(0, 0, 0, 0.15);\n",
              "      filter: drop-shadow(0px 1px 2px rgba(0, 0, 0, 0.3));\n",
              "      fill: #FFFFFF;\n",
              "    }\n",
              "  </style>\n",
              "\n",
              "      <script>\n",
              "        const buttonEl =\n",
              "          document.querySelector('#df-a6e7c239-63b7-4fa6-9b54-9820ad9734fa button.colab-df-convert');\n",
              "        buttonEl.style.display =\n",
              "          google.colab.kernel.accessAllowed ? 'block' : 'none';\n",
              "\n",
              "        async function convertToInteractive(key) {\n",
              "          const element = document.querySelector('#df-a6e7c239-63b7-4fa6-9b54-9820ad9734fa');\n",
              "          const dataTable =\n",
              "            await google.colab.kernel.invokeFunction('convertToInteractive',\n",
              "                                                     [key], {});\n",
              "          if (!dataTable) return;\n",
              "\n",
              "          const docLinkHtml = 'Like what you see? Visit the ' +\n",
              "            '<a target=\"_blank\" href=https://colab.research.google.com/notebooks/data_table.ipynb>data table notebook</a>'\n",
              "            + ' to learn more about interactive tables.';\n",
              "          element.innerHTML = '';\n",
              "          dataTable['output_type'] = 'display_data';\n",
              "          await google.colab.output.renderOutput(dataTable, element);\n",
              "          const docLink = document.createElement('div');\n",
              "          docLink.innerHTML = docLinkHtml;\n",
              "          element.appendChild(docLink);\n",
              "        }\n",
              "      </script>\n",
              "    </div>\n",
              "  </div>\n",
              "  "
            ]
          },
          "metadata": {},
          "execution_count": 79
        }
      ]
    },
    {
      "cell_type": "markdown",
      "metadata": {
        "id": "FF6VMZ1SwwLq"
      },
      "source": [
        "A visualização das 5 primeiras entradas já permite entender como o dataset está composto. \n",
        "\n",
        "Agora vamos verificar mais detalhes do dataset. \n",
        "\n",
        "O que vamos verificar?\n",
        "- Dimensões dos dados;\n",
        "- Os dados ausentes;\n",
        "- O tipo de cada variável;\n",
        "- A quantidade de valores únicos por coluna;"
      ]
    },
    {
      "cell_type": "code",
      "metadata": {
        "id": "NvBoPMD7QVMY",
        "colab": {
          "base_uri": "https://localhost:8080/"
        },
        "outputId": "4d854212-9974-45cd-bd2e-c04987419ad9"
      },
      "source": [
        "#Verificando as dimensões dos dados\n",
        "print(\"Linhas:\\t\\t{}\".format(df.shape[0]))\n",
        "print(\"Colunas:\\t{}\".format(df.shape[1]))\n"
      ],
      "execution_count": null,
      "outputs": [
        {
          "output_type": "stream",
          "name": "stdout",
          "text": [
            "Linhas:\t\t7043\n",
            "Colunas:\t21\n"
          ]
        }
      ]
    },
    {
      "cell_type": "code",
      "source": [
        "#Tipos das variáveis\n",
        "pd.DataFrame(df.dtypes,columns=['Tipo de Dados'])"
      ],
      "metadata": {
        "colab": {
          "base_uri": "https://localhost:8080/",
          "height": 708
        },
        "id": "VaIhufOEddRx",
        "outputId": "a59ce476-3033-486e-fc40-f33650859a94"
      },
      "execution_count": null,
      "outputs": [
        {
          "output_type": "execute_result",
          "data": {
            "text/plain": [
              "                 Tipo de Dados\n",
              "customerID              object\n",
              "gender                  object\n",
              "SeniorCitizen            int64\n",
              "Partner                 object\n",
              "Dependents              object\n",
              "tenure                   int64\n",
              "PhoneService            object\n",
              "MultipleLines           object\n",
              "InternetService         object\n",
              "OnlineSecurity          object\n",
              "OnlineBackup            object\n",
              "DeviceProtection        object\n",
              "TechSupport             object\n",
              "StreamingTV             object\n",
              "StreamingMovies         object\n",
              "Contract                object\n",
              "PaperlessBilling        object\n",
              "PaymentMethod           object\n",
              "MonthlyCharges         float64\n",
              "TotalCharges            object\n",
              "Churn                   object"
            ],
            "text/html": [
              "\n",
              "  <div id=\"df-ff77cae9-d423-4397-b731-f8d16df2e90b\">\n",
              "    <div class=\"colab-df-container\">\n",
              "      <div>\n",
              "<style scoped>\n",
              "    .dataframe tbody tr th:only-of-type {\n",
              "        vertical-align: middle;\n",
              "    }\n",
              "\n",
              "    .dataframe tbody tr th {\n",
              "        vertical-align: top;\n",
              "    }\n",
              "\n",
              "    .dataframe thead th {\n",
              "        text-align: right;\n",
              "    }\n",
              "</style>\n",
              "<table border=\"1\" class=\"dataframe\">\n",
              "  <thead>\n",
              "    <tr style=\"text-align: right;\">\n",
              "      <th></th>\n",
              "      <th>Tipo de Dados</th>\n",
              "    </tr>\n",
              "  </thead>\n",
              "  <tbody>\n",
              "    <tr>\n",
              "      <th>customerID</th>\n",
              "      <td>object</td>\n",
              "    </tr>\n",
              "    <tr>\n",
              "      <th>gender</th>\n",
              "      <td>object</td>\n",
              "    </tr>\n",
              "    <tr>\n",
              "      <th>SeniorCitizen</th>\n",
              "      <td>int64</td>\n",
              "    </tr>\n",
              "    <tr>\n",
              "      <th>Partner</th>\n",
              "      <td>object</td>\n",
              "    </tr>\n",
              "    <tr>\n",
              "      <th>Dependents</th>\n",
              "      <td>object</td>\n",
              "    </tr>\n",
              "    <tr>\n",
              "      <th>tenure</th>\n",
              "      <td>int64</td>\n",
              "    </tr>\n",
              "    <tr>\n",
              "      <th>PhoneService</th>\n",
              "      <td>object</td>\n",
              "    </tr>\n",
              "    <tr>\n",
              "      <th>MultipleLines</th>\n",
              "      <td>object</td>\n",
              "    </tr>\n",
              "    <tr>\n",
              "      <th>InternetService</th>\n",
              "      <td>object</td>\n",
              "    </tr>\n",
              "    <tr>\n",
              "      <th>OnlineSecurity</th>\n",
              "      <td>object</td>\n",
              "    </tr>\n",
              "    <tr>\n",
              "      <th>OnlineBackup</th>\n",
              "      <td>object</td>\n",
              "    </tr>\n",
              "    <tr>\n",
              "      <th>DeviceProtection</th>\n",
              "      <td>object</td>\n",
              "    </tr>\n",
              "    <tr>\n",
              "      <th>TechSupport</th>\n",
              "      <td>object</td>\n",
              "    </tr>\n",
              "    <tr>\n",
              "      <th>StreamingTV</th>\n",
              "      <td>object</td>\n",
              "    </tr>\n",
              "    <tr>\n",
              "      <th>StreamingMovies</th>\n",
              "      <td>object</td>\n",
              "    </tr>\n",
              "    <tr>\n",
              "      <th>Contract</th>\n",
              "      <td>object</td>\n",
              "    </tr>\n",
              "    <tr>\n",
              "      <th>PaperlessBilling</th>\n",
              "      <td>object</td>\n",
              "    </tr>\n",
              "    <tr>\n",
              "      <th>PaymentMethod</th>\n",
              "      <td>object</td>\n",
              "    </tr>\n",
              "    <tr>\n",
              "      <th>MonthlyCharges</th>\n",
              "      <td>float64</td>\n",
              "    </tr>\n",
              "    <tr>\n",
              "      <th>TotalCharges</th>\n",
              "      <td>object</td>\n",
              "    </tr>\n",
              "    <tr>\n",
              "      <th>Churn</th>\n",
              "      <td>object</td>\n",
              "    </tr>\n",
              "  </tbody>\n",
              "</table>\n",
              "</div>\n",
              "      <button class=\"colab-df-convert\" onclick=\"convertToInteractive('df-ff77cae9-d423-4397-b731-f8d16df2e90b')\"\n",
              "              title=\"Convert this dataframe to an interactive table.\"\n",
              "              style=\"display:none;\">\n",
              "        \n",
              "  <svg xmlns=\"http://www.w3.org/2000/svg\" height=\"24px\"viewBox=\"0 0 24 24\"\n",
              "       width=\"24px\">\n",
              "    <path d=\"M0 0h24v24H0V0z\" fill=\"none\"/>\n",
              "    <path d=\"M18.56 5.44l.94 2.06.94-2.06 2.06-.94-2.06-.94-.94-2.06-.94 2.06-2.06.94zm-11 1L8.5 8.5l.94-2.06 2.06-.94-2.06-.94L8.5 2.5l-.94 2.06-2.06.94zm10 10l.94 2.06.94-2.06 2.06-.94-2.06-.94-.94-2.06-.94 2.06-2.06.94z\"/><path d=\"M17.41 7.96l-1.37-1.37c-.4-.4-.92-.59-1.43-.59-.52 0-1.04.2-1.43.59L10.3 9.45l-7.72 7.72c-.78.78-.78 2.05 0 2.83L4 21.41c.39.39.9.59 1.41.59.51 0 1.02-.2 1.41-.59l7.78-7.78 2.81-2.81c.8-.78.8-2.07 0-2.86zM5.41 20L4 18.59l7.72-7.72 1.47 1.35L5.41 20z\"/>\n",
              "  </svg>\n",
              "      </button>\n",
              "      \n",
              "  <style>\n",
              "    .colab-df-container {\n",
              "      display:flex;\n",
              "      flex-wrap:wrap;\n",
              "      gap: 12px;\n",
              "    }\n",
              "\n",
              "    .colab-df-convert {\n",
              "      background-color: #E8F0FE;\n",
              "      border: none;\n",
              "      border-radius: 50%;\n",
              "      cursor: pointer;\n",
              "      display: none;\n",
              "      fill: #1967D2;\n",
              "      height: 32px;\n",
              "      padding: 0 0 0 0;\n",
              "      width: 32px;\n",
              "    }\n",
              "\n",
              "    .colab-df-convert:hover {\n",
              "      background-color: #E2EBFA;\n",
              "      box-shadow: 0px 1px 2px rgba(60, 64, 67, 0.3), 0px 1px 3px 1px rgba(60, 64, 67, 0.15);\n",
              "      fill: #174EA6;\n",
              "    }\n",
              "\n",
              "    [theme=dark] .colab-df-convert {\n",
              "      background-color: #3B4455;\n",
              "      fill: #D2E3FC;\n",
              "    }\n",
              "\n",
              "    [theme=dark] .colab-df-convert:hover {\n",
              "      background-color: #434B5C;\n",
              "      box-shadow: 0px 1px 3px 1px rgba(0, 0, 0, 0.15);\n",
              "      filter: drop-shadow(0px 1px 2px rgba(0, 0, 0, 0.3));\n",
              "      fill: #FFFFFF;\n",
              "    }\n",
              "  </style>\n",
              "\n",
              "      <script>\n",
              "        const buttonEl =\n",
              "          document.querySelector('#df-ff77cae9-d423-4397-b731-f8d16df2e90b button.colab-df-convert');\n",
              "        buttonEl.style.display =\n",
              "          google.colab.kernel.accessAllowed ? 'block' : 'none';\n",
              "\n",
              "        async function convertToInteractive(key) {\n",
              "          const element = document.querySelector('#df-ff77cae9-d423-4397-b731-f8d16df2e90b');\n",
              "          const dataTable =\n",
              "            await google.colab.kernel.invokeFunction('convertToInteractive',\n",
              "                                                     [key], {});\n",
              "          if (!dataTable) return;\n",
              "\n",
              "          const docLinkHtml = 'Like what you see? Visit the ' +\n",
              "            '<a target=\"_blank\" href=https://colab.research.google.com/notebooks/data_table.ipynb>data table notebook</a>'\n",
              "            + ' to learn more about interactive tables.';\n",
              "          element.innerHTML = '';\n",
              "          dataTable['output_type'] = 'display_data';\n",
              "          await google.colab.output.renderOutput(dataTable, element);\n",
              "          const docLink = document.createElement('div');\n",
              "          docLink.innerHTML = docLinkHtml;\n",
              "          element.appendChild(docLink);\n",
              "        }\n",
              "      </script>\n",
              "    </div>\n",
              "  </div>\n",
              "  "
            ]
          },
          "metadata": {},
          "execution_count": 81
        }
      ]
    },
    {
      "cell_type": "markdown",
      "source": [
        "A maioria das variáveis estão como `object`, inclusive a variável TotalCharges que deveria ser - `float`. Sendo assim, vamos transformá-la, mas antes disso vamos verificar a quantidade de dados nulos."
      ],
      "metadata": {
        "id": "EYdspdFvdiwN"
      }
    },
    {
      "cell_type": "code",
      "metadata": {
        "id": "ebSgr1nGoFvW",
        "colab": {
          "base_uri": "https://localhost:8080/",
          "height": 708
        },
        "outputId": "28105107-1ee3-4446-e580-476c65159e42"
      },
      "source": [
        "#Avaliando a quantidade de valores ausentes\n",
        "pd.DataFrame(df.isnull().sum(),columns=['Quantidade de dados nulos'])"
      ],
      "execution_count": null,
      "outputs": [
        {
          "output_type": "execute_result",
          "data": {
            "text/plain": [
              "                  Quantidade de dados nulos\n",
              "customerID                                0\n",
              "gender                                    0\n",
              "SeniorCitizen                             0\n",
              "Partner                                   0\n",
              "Dependents                                0\n",
              "tenure                                    0\n",
              "PhoneService                              0\n",
              "MultipleLines                             0\n",
              "InternetService                           0\n",
              "OnlineSecurity                            0\n",
              "OnlineBackup                              0\n",
              "DeviceProtection                          0\n",
              "TechSupport                               0\n",
              "StreamingTV                               0\n",
              "StreamingMovies                           0\n",
              "Contract                                  0\n",
              "PaperlessBilling                          0\n",
              "PaymentMethod                             0\n",
              "MonthlyCharges                            0\n",
              "TotalCharges                              0\n",
              "Churn                                     0"
            ],
            "text/html": [
              "\n",
              "  <div id=\"df-ddf9f8fa-253e-47d0-b8c3-35bb72721ac4\">\n",
              "    <div class=\"colab-df-container\">\n",
              "      <div>\n",
              "<style scoped>\n",
              "    .dataframe tbody tr th:only-of-type {\n",
              "        vertical-align: middle;\n",
              "    }\n",
              "\n",
              "    .dataframe tbody tr th {\n",
              "        vertical-align: top;\n",
              "    }\n",
              "\n",
              "    .dataframe thead th {\n",
              "        text-align: right;\n",
              "    }\n",
              "</style>\n",
              "<table border=\"1\" class=\"dataframe\">\n",
              "  <thead>\n",
              "    <tr style=\"text-align: right;\">\n",
              "      <th></th>\n",
              "      <th>Quantidade de dados nulos</th>\n",
              "    </tr>\n",
              "  </thead>\n",
              "  <tbody>\n",
              "    <tr>\n",
              "      <th>customerID</th>\n",
              "      <td>0</td>\n",
              "    </tr>\n",
              "    <tr>\n",
              "      <th>gender</th>\n",
              "      <td>0</td>\n",
              "    </tr>\n",
              "    <tr>\n",
              "      <th>SeniorCitizen</th>\n",
              "      <td>0</td>\n",
              "    </tr>\n",
              "    <tr>\n",
              "      <th>Partner</th>\n",
              "      <td>0</td>\n",
              "    </tr>\n",
              "    <tr>\n",
              "      <th>Dependents</th>\n",
              "      <td>0</td>\n",
              "    </tr>\n",
              "    <tr>\n",
              "      <th>tenure</th>\n",
              "      <td>0</td>\n",
              "    </tr>\n",
              "    <tr>\n",
              "      <th>PhoneService</th>\n",
              "      <td>0</td>\n",
              "    </tr>\n",
              "    <tr>\n",
              "      <th>MultipleLines</th>\n",
              "      <td>0</td>\n",
              "    </tr>\n",
              "    <tr>\n",
              "      <th>InternetService</th>\n",
              "      <td>0</td>\n",
              "    </tr>\n",
              "    <tr>\n",
              "      <th>OnlineSecurity</th>\n",
              "      <td>0</td>\n",
              "    </tr>\n",
              "    <tr>\n",
              "      <th>OnlineBackup</th>\n",
              "      <td>0</td>\n",
              "    </tr>\n",
              "    <tr>\n",
              "      <th>DeviceProtection</th>\n",
              "      <td>0</td>\n",
              "    </tr>\n",
              "    <tr>\n",
              "      <th>TechSupport</th>\n",
              "      <td>0</td>\n",
              "    </tr>\n",
              "    <tr>\n",
              "      <th>StreamingTV</th>\n",
              "      <td>0</td>\n",
              "    </tr>\n",
              "    <tr>\n",
              "      <th>StreamingMovies</th>\n",
              "      <td>0</td>\n",
              "    </tr>\n",
              "    <tr>\n",
              "      <th>Contract</th>\n",
              "      <td>0</td>\n",
              "    </tr>\n",
              "    <tr>\n",
              "      <th>PaperlessBilling</th>\n",
              "      <td>0</td>\n",
              "    </tr>\n",
              "    <tr>\n",
              "      <th>PaymentMethod</th>\n",
              "      <td>0</td>\n",
              "    </tr>\n",
              "    <tr>\n",
              "      <th>MonthlyCharges</th>\n",
              "      <td>0</td>\n",
              "    </tr>\n",
              "    <tr>\n",
              "      <th>TotalCharges</th>\n",
              "      <td>0</td>\n",
              "    </tr>\n",
              "    <tr>\n",
              "      <th>Churn</th>\n",
              "      <td>0</td>\n",
              "    </tr>\n",
              "  </tbody>\n",
              "</table>\n",
              "</div>\n",
              "      <button class=\"colab-df-convert\" onclick=\"convertToInteractive('df-ddf9f8fa-253e-47d0-b8c3-35bb72721ac4')\"\n",
              "              title=\"Convert this dataframe to an interactive table.\"\n",
              "              style=\"display:none;\">\n",
              "        \n",
              "  <svg xmlns=\"http://www.w3.org/2000/svg\" height=\"24px\"viewBox=\"0 0 24 24\"\n",
              "       width=\"24px\">\n",
              "    <path d=\"M0 0h24v24H0V0z\" fill=\"none\"/>\n",
              "    <path d=\"M18.56 5.44l.94 2.06.94-2.06 2.06-.94-2.06-.94-.94-2.06-.94 2.06-2.06.94zm-11 1L8.5 8.5l.94-2.06 2.06-.94-2.06-.94L8.5 2.5l-.94 2.06-2.06.94zm10 10l.94 2.06.94-2.06 2.06-.94-2.06-.94-.94-2.06-.94 2.06-2.06.94z\"/><path d=\"M17.41 7.96l-1.37-1.37c-.4-.4-.92-.59-1.43-.59-.52 0-1.04.2-1.43.59L10.3 9.45l-7.72 7.72c-.78.78-.78 2.05 0 2.83L4 21.41c.39.39.9.59 1.41.59.51 0 1.02-.2 1.41-.59l7.78-7.78 2.81-2.81c.8-.78.8-2.07 0-2.86zM5.41 20L4 18.59l7.72-7.72 1.47 1.35L5.41 20z\"/>\n",
              "  </svg>\n",
              "      </button>\n",
              "      \n",
              "  <style>\n",
              "    .colab-df-container {\n",
              "      display:flex;\n",
              "      flex-wrap:wrap;\n",
              "      gap: 12px;\n",
              "    }\n",
              "\n",
              "    .colab-df-convert {\n",
              "      background-color: #E8F0FE;\n",
              "      border: none;\n",
              "      border-radius: 50%;\n",
              "      cursor: pointer;\n",
              "      display: none;\n",
              "      fill: #1967D2;\n",
              "      height: 32px;\n",
              "      padding: 0 0 0 0;\n",
              "      width: 32px;\n",
              "    }\n",
              "\n",
              "    .colab-df-convert:hover {\n",
              "      background-color: #E2EBFA;\n",
              "      box-shadow: 0px 1px 2px rgba(60, 64, 67, 0.3), 0px 1px 3px 1px rgba(60, 64, 67, 0.15);\n",
              "      fill: #174EA6;\n",
              "    }\n",
              "\n",
              "    [theme=dark] .colab-df-convert {\n",
              "      background-color: #3B4455;\n",
              "      fill: #D2E3FC;\n",
              "    }\n",
              "\n",
              "    [theme=dark] .colab-df-convert:hover {\n",
              "      background-color: #434B5C;\n",
              "      box-shadow: 0px 1px 3px 1px rgba(0, 0, 0, 0.15);\n",
              "      filter: drop-shadow(0px 1px 2px rgba(0, 0, 0, 0.3));\n",
              "      fill: #FFFFFF;\n",
              "    }\n",
              "  </style>\n",
              "\n",
              "      <script>\n",
              "        const buttonEl =\n",
              "          document.querySelector('#df-ddf9f8fa-253e-47d0-b8c3-35bb72721ac4 button.colab-df-convert');\n",
              "        buttonEl.style.display =\n",
              "          google.colab.kernel.accessAllowed ? 'block' : 'none';\n",
              "\n",
              "        async function convertToInteractive(key) {\n",
              "          const element = document.querySelector('#df-ddf9f8fa-253e-47d0-b8c3-35bb72721ac4');\n",
              "          const dataTable =\n",
              "            await google.colab.kernel.invokeFunction('convertToInteractive',\n",
              "                                                     [key], {});\n",
              "          if (!dataTable) return;\n",
              "\n",
              "          const docLinkHtml = 'Like what you see? Visit the ' +\n",
              "            '<a target=\"_blank\" href=https://colab.research.google.com/notebooks/data_table.ipynb>data table notebook</a>'\n",
              "            + ' to learn more about interactive tables.';\n",
              "          element.innerHTML = '';\n",
              "          dataTable['output_type'] = 'display_data';\n",
              "          await google.colab.output.renderOutput(dataTable, element);\n",
              "          const docLink = document.createElement('div');\n",
              "          docLink.innerHTML = docLinkHtml;\n",
              "          element.appendChild(docLink);\n",
              "        }\n",
              "      </script>\n",
              "    </div>\n",
              "  </div>\n",
              "  "
            ]
          },
          "metadata": {},
          "execution_count": 82
        }
      ]
    },
    {
      "cell_type": "markdown",
      "source": [
        "Aparentemente não existem valores ausentes, porém, vamos verificar um pouco mais."
      ],
      "metadata": {
        "id": "eTwAmF1Rwjlx"
      }
    },
    {
      "cell_type": "code",
      "source": [
        "df[['tenure','MonthlyCharges','TotalCharges','Churn']][df['tenure'] == 0]"
      ],
      "metadata": {
        "colab": {
          "base_uri": "https://localhost:8080/",
          "height": 394
        },
        "id": "rbq3qZo701Yf",
        "outputId": "c571984f-756d-492b-8aa2-e69c4741fa0c"
      },
      "execution_count": null,
      "outputs": [
        {
          "output_type": "execute_result",
          "data": {
            "text/plain": [
              "      tenure  MonthlyCharges TotalCharges Churn\n",
              "488        0           52.55                 No\n",
              "753        0           20.25                 No\n",
              "936        0           80.85                 No\n",
              "1082       0           25.75                 No\n",
              "1340       0           56.05                 No\n",
              "3331       0           19.85                 No\n",
              "3826       0           25.35                 No\n",
              "4380       0           20.00                 No\n",
              "5218       0           19.70                 No\n",
              "6670       0           73.35                 No\n",
              "6754       0           61.90                 No"
            ],
            "text/html": [
              "\n",
              "  <div id=\"df-061ebbb5-63b0-4291-852f-0ee98e43389c\">\n",
              "    <div class=\"colab-df-container\">\n",
              "      <div>\n",
              "<style scoped>\n",
              "    .dataframe tbody tr th:only-of-type {\n",
              "        vertical-align: middle;\n",
              "    }\n",
              "\n",
              "    .dataframe tbody tr th {\n",
              "        vertical-align: top;\n",
              "    }\n",
              "\n",
              "    .dataframe thead th {\n",
              "        text-align: right;\n",
              "    }\n",
              "</style>\n",
              "<table border=\"1\" class=\"dataframe\">\n",
              "  <thead>\n",
              "    <tr style=\"text-align: right;\">\n",
              "      <th></th>\n",
              "      <th>tenure</th>\n",
              "      <th>MonthlyCharges</th>\n",
              "      <th>TotalCharges</th>\n",
              "      <th>Churn</th>\n",
              "    </tr>\n",
              "  </thead>\n",
              "  <tbody>\n",
              "    <tr>\n",
              "      <th>488</th>\n",
              "      <td>0</td>\n",
              "      <td>52.55</td>\n",
              "      <td></td>\n",
              "      <td>No</td>\n",
              "    </tr>\n",
              "    <tr>\n",
              "      <th>753</th>\n",
              "      <td>0</td>\n",
              "      <td>20.25</td>\n",
              "      <td></td>\n",
              "      <td>No</td>\n",
              "    </tr>\n",
              "    <tr>\n",
              "      <th>936</th>\n",
              "      <td>0</td>\n",
              "      <td>80.85</td>\n",
              "      <td></td>\n",
              "      <td>No</td>\n",
              "    </tr>\n",
              "    <tr>\n",
              "      <th>1082</th>\n",
              "      <td>0</td>\n",
              "      <td>25.75</td>\n",
              "      <td></td>\n",
              "      <td>No</td>\n",
              "    </tr>\n",
              "    <tr>\n",
              "      <th>1340</th>\n",
              "      <td>0</td>\n",
              "      <td>56.05</td>\n",
              "      <td></td>\n",
              "      <td>No</td>\n",
              "    </tr>\n",
              "    <tr>\n",
              "      <th>3331</th>\n",
              "      <td>0</td>\n",
              "      <td>19.85</td>\n",
              "      <td></td>\n",
              "      <td>No</td>\n",
              "    </tr>\n",
              "    <tr>\n",
              "      <th>3826</th>\n",
              "      <td>0</td>\n",
              "      <td>25.35</td>\n",
              "      <td></td>\n",
              "      <td>No</td>\n",
              "    </tr>\n",
              "    <tr>\n",
              "      <th>4380</th>\n",
              "      <td>0</td>\n",
              "      <td>20.00</td>\n",
              "      <td></td>\n",
              "      <td>No</td>\n",
              "    </tr>\n",
              "    <tr>\n",
              "      <th>5218</th>\n",
              "      <td>0</td>\n",
              "      <td>19.70</td>\n",
              "      <td></td>\n",
              "      <td>No</td>\n",
              "    </tr>\n",
              "    <tr>\n",
              "      <th>6670</th>\n",
              "      <td>0</td>\n",
              "      <td>73.35</td>\n",
              "      <td></td>\n",
              "      <td>No</td>\n",
              "    </tr>\n",
              "    <tr>\n",
              "      <th>6754</th>\n",
              "      <td>0</td>\n",
              "      <td>61.90</td>\n",
              "      <td></td>\n",
              "      <td>No</td>\n",
              "    </tr>\n",
              "  </tbody>\n",
              "</table>\n",
              "</div>\n",
              "      <button class=\"colab-df-convert\" onclick=\"convertToInteractive('df-061ebbb5-63b0-4291-852f-0ee98e43389c')\"\n",
              "              title=\"Convert this dataframe to an interactive table.\"\n",
              "              style=\"display:none;\">\n",
              "        \n",
              "  <svg xmlns=\"http://www.w3.org/2000/svg\" height=\"24px\"viewBox=\"0 0 24 24\"\n",
              "       width=\"24px\">\n",
              "    <path d=\"M0 0h24v24H0V0z\" fill=\"none\"/>\n",
              "    <path d=\"M18.56 5.44l.94 2.06.94-2.06 2.06-.94-2.06-.94-.94-2.06-.94 2.06-2.06.94zm-11 1L8.5 8.5l.94-2.06 2.06-.94-2.06-.94L8.5 2.5l-.94 2.06-2.06.94zm10 10l.94 2.06.94-2.06 2.06-.94-2.06-.94-.94-2.06-.94 2.06-2.06.94z\"/><path d=\"M17.41 7.96l-1.37-1.37c-.4-.4-.92-.59-1.43-.59-.52 0-1.04.2-1.43.59L10.3 9.45l-7.72 7.72c-.78.78-.78 2.05 0 2.83L4 21.41c.39.39.9.59 1.41.59.51 0 1.02-.2 1.41-.59l7.78-7.78 2.81-2.81c.8-.78.8-2.07 0-2.86zM5.41 20L4 18.59l7.72-7.72 1.47 1.35L5.41 20z\"/>\n",
              "  </svg>\n",
              "      </button>\n",
              "      \n",
              "  <style>\n",
              "    .colab-df-container {\n",
              "      display:flex;\n",
              "      flex-wrap:wrap;\n",
              "      gap: 12px;\n",
              "    }\n",
              "\n",
              "    .colab-df-convert {\n",
              "      background-color: #E8F0FE;\n",
              "      border: none;\n",
              "      border-radius: 50%;\n",
              "      cursor: pointer;\n",
              "      display: none;\n",
              "      fill: #1967D2;\n",
              "      height: 32px;\n",
              "      padding: 0 0 0 0;\n",
              "      width: 32px;\n",
              "    }\n",
              "\n",
              "    .colab-df-convert:hover {\n",
              "      background-color: #E2EBFA;\n",
              "      box-shadow: 0px 1px 2px rgba(60, 64, 67, 0.3), 0px 1px 3px 1px rgba(60, 64, 67, 0.15);\n",
              "      fill: #174EA6;\n",
              "    }\n",
              "\n",
              "    [theme=dark] .colab-df-convert {\n",
              "      background-color: #3B4455;\n",
              "      fill: #D2E3FC;\n",
              "    }\n",
              "\n",
              "    [theme=dark] .colab-df-convert:hover {\n",
              "      background-color: #434B5C;\n",
              "      box-shadow: 0px 1px 3px 1px rgba(0, 0, 0, 0.15);\n",
              "      filter: drop-shadow(0px 1px 2px rgba(0, 0, 0, 0.3));\n",
              "      fill: #FFFFFF;\n",
              "    }\n",
              "  </style>\n",
              "\n",
              "      <script>\n",
              "        const buttonEl =\n",
              "          document.querySelector('#df-061ebbb5-63b0-4291-852f-0ee98e43389c button.colab-df-convert');\n",
              "        buttonEl.style.display =\n",
              "          google.colab.kernel.accessAllowed ? 'block' : 'none';\n",
              "\n",
              "        async function convertToInteractive(key) {\n",
              "          const element = document.querySelector('#df-061ebbb5-63b0-4291-852f-0ee98e43389c');\n",
              "          const dataTable =\n",
              "            await google.colab.kernel.invokeFunction('convertToInteractive',\n",
              "                                                     [key], {});\n",
              "          if (!dataTable) return;\n",
              "\n",
              "          const docLinkHtml = 'Like what you see? Visit the ' +\n",
              "            '<a target=\"_blank\" href=https://colab.research.google.com/notebooks/data_table.ipynb>data table notebook</a>'\n",
              "            + ' to learn more about interactive tables.';\n",
              "          element.innerHTML = '';\n",
              "          dataTable['output_type'] = 'display_data';\n",
              "          await google.colab.output.renderOutput(dataTable, element);\n",
              "          const docLink = document.createElement('div');\n",
              "          docLink.innerHTML = docLinkHtml;\n",
              "          element.appendChild(docLink);\n",
              "        }\n",
              "      </script>\n",
              "    </div>\n",
              "  </div>\n",
              "  "
            ]
          },
          "metadata": {},
          "execution_count": 83
        }
      ]
    },
    {
      "cell_type": "markdown",
      "source": [
        "A coluna `tenure`está com o valor zero devido o cliente ainda não haver completado um mês de assinatura, uma vez que se trata do tempo de aquisição do serviço.\n",
        "\n",
        "Geralmente quando a coluna `tenure` está com o valor zero, a coluna `TotalCharges` está com os valores em branco, porém, ao verificar os dados nulos não aparecia. Vamos então, transforma-la em uma variável numérica.\n",
        "\n"
      ],
      "metadata": {
        "id": "eIgRnFE61cr_"
      }
    },
    {
      "cell_type": "code",
      "source": [
        "#mudando o TotalCharges para float\n",
        "df['TotalCharges']=pd.to_numeric(df['TotalCharges'],errors='coerce')"
      ],
      "metadata": {
        "id": "-cvHeec4zGW-"
      },
      "execution_count": null,
      "outputs": []
    },
    {
      "cell_type": "markdown",
      "source": [
        "* errors = 'coerce': transforma dados inválidos em NaN, então ao verificarmos novamente a quantidade de dados nulos, aparecerá."
      ],
      "metadata": {
        "id": "dsfyI7xvxDse"
      }
    },
    {
      "cell_type": "code",
      "source": [
        "#Avaliando a quantidade de valores ausentes após transformar em float\n",
        "pd.DataFrame(df.isnull().sum(),columns=['Quantidade de dados nulos'])"
      ],
      "metadata": {
        "colab": {
          "base_uri": "https://localhost:8080/",
          "height": 708
        },
        "id": "ocgIWc7mzJxU",
        "outputId": "9fca2af5-4e16-49f7-d15c-e5e42aad6ded"
      },
      "execution_count": null,
      "outputs": [
        {
          "output_type": "execute_result",
          "data": {
            "text/plain": [
              "                  Quantidade de dados nulos\n",
              "customerID                                0\n",
              "gender                                    0\n",
              "SeniorCitizen                             0\n",
              "Partner                                   0\n",
              "Dependents                                0\n",
              "tenure                                    0\n",
              "PhoneService                              0\n",
              "MultipleLines                             0\n",
              "InternetService                           0\n",
              "OnlineSecurity                            0\n",
              "OnlineBackup                              0\n",
              "DeviceProtection                          0\n",
              "TechSupport                               0\n",
              "StreamingTV                               0\n",
              "StreamingMovies                           0\n",
              "Contract                                  0\n",
              "PaperlessBilling                          0\n",
              "PaymentMethod                             0\n",
              "MonthlyCharges                            0\n",
              "TotalCharges                             11\n",
              "Churn                                     0"
            ],
            "text/html": [
              "\n",
              "  <div id=\"df-9e2270a9-16bf-41bc-ab3a-5bd0799ea337\">\n",
              "    <div class=\"colab-df-container\">\n",
              "      <div>\n",
              "<style scoped>\n",
              "    .dataframe tbody tr th:only-of-type {\n",
              "        vertical-align: middle;\n",
              "    }\n",
              "\n",
              "    .dataframe tbody tr th {\n",
              "        vertical-align: top;\n",
              "    }\n",
              "\n",
              "    .dataframe thead th {\n",
              "        text-align: right;\n",
              "    }\n",
              "</style>\n",
              "<table border=\"1\" class=\"dataframe\">\n",
              "  <thead>\n",
              "    <tr style=\"text-align: right;\">\n",
              "      <th></th>\n",
              "      <th>Quantidade de dados nulos</th>\n",
              "    </tr>\n",
              "  </thead>\n",
              "  <tbody>\n",
              "    <tr>\n",
              "      <th>customerID</th>\n",
              "      <td>0</td>\n",
              "    </tr>\n",
              "    <tr>\n",
              "      <th>gender</th>\n",
              "      <td>0</td>\n",
              "    </tr>\n",
              "    <tr>\n",
              "      <th>SeniorCitizen</th>\n",
              "      <td>0</td>\n",
              "    </tr>\n",
              "    <tr>\n",
              "      <th>Partner</th>\n",
              "      <td>0</td>\n",
              "    </tr>\n",
              "    <tr>\n",
              "      <th>Dependents</th>\n",
              "      <td>0</td>\n",
              "    </tr>\n",
              "    <tr>\n",
              "      <th>tenure</th>\n",
              "      <td>0</td>\n",
              "    </tr>\n",
              "    <tr>\n",
              "      <th>PhoneService</th>\n",
              "      <td>0</td>\n",
              "    </tr>\n",
              "    <tr>\n",
              "      <th>MultipleLines</th>\n",
              "      <td>0</td>\n",
              "    </tr>\n",
              "    <tr>\n",
              "      <th>InternetService</th>\n",
              "      <td>0</td>\n",
              "    </tr>\n",
              "    <tr>\n",
              "      <th>OnlineSecurity</th>\n",
              "      <td>0</td>\n",
              "    </tr>\n",
              "    <tr>\n",
              "      <th>OnlineBackup</th>\n",
              "      <td>0</td>\n",
              "    </tr>\n",
              "    <tr>\n",
              "      <th>DeviceProtection</th>\n",
              "      <td>0</td>\n",
              "    </tr>\n",
              "    <tr>\n",
              "      <th>TechSupport</th>\n",
              "      <td>0</td>\n",
              "    </tr>\n",
              "    <tr>\n",
              "      <th>StreamingTV</th>\n",
              "      <td>0</td>\n",
              "    </tr>\n",
              "    <tr>\n",
              "      <th>StreamingMovies</th>\n",
              "      <td>0</td>\n",
              "    </tr>\n",
              "    <tr>\n",
              "      <th>Contract</th>\n",
              "      <td>0</td>\n",
              "    </tr>\n",
              "    <tr>\n",
              "      <th>PaperlessBilling</th>\n",
              "      <td>0</td>\n",
              "    </tr>\n",
              "    <tr>\n",
              "      <th>PaymentMethod</th>\n",
              "      <td>0</td>\n",
              "    </tr>\n",
              "    <tr>\n",
              "      <th>MonthlyCharges</th>\n",
              "      <td>0</td>\n",
              "    </tr>\n",
              "    <tr>\n",
              "      <th>TotalCharges</th>\n",
              "      <td>11</td>\n",
              "    </tr>\n",
              "    <tr>\n",
              "      <th>Churn</th>\n",
              "      <td>0</td>\n",
              "    </tr>\n",
              "  </tbody>\n",
              "</table>\n",
              "</div>\n",
              "      <button class=\"colab-df-convert\" onclick=\"convertToInteractive('df-9e2270a9-16bf-41bc-ab3a-5bd0799ea337')\"\n",
              "              title=\"Convert this dataframe to an interactive table.\"\n",
              "              style=\"display:none;\">\n",
              "        \n",
              "  <svg xmlns=\"http://www.w3.org/2000/svg\" height=\"24px\"viewBox=\"0 0 24 24\"\n",
              "       width=\"24px\">\n",
              "    <path d=\"M0 0h24v24H0V0z\" fill=\"none\"/>\n",
              "    <path d=\"M18.56 5.44l.94 2.06.94-2.06 2.06-.94-2.06-.94-.94-2.06-.94 2.06-2.06.94zm-11 1L8.5 8.5l.94-2.06 2.06-.94-2.06-.94L8.5 2.5l-.94 2.06-2.06.94zm10 10l.94 2.06.94-2.06 2.06-.94-2.06-.94-.94-2.06-.94 2.06-2.06.94z\"/><path d=\"M17.41 7.96l-1.37-1.37c-.4-.4-.92-.59-1.43-.59-.52 0-1.04.2-1.43.59L10.3 9.45l-7.72 7.72c-.78.78-.78 2.05 0 2.83L4 21.41c.39.39.9.59 1.41.59.51 0 1.02-.2 1.41-.59l7.78-7.78 2.81-2.81c.8-.78.8-2.07 0-2.86zM5.41 20L4 18.59l7.72-7.72 1.47 1.35L5.41 20z\"/>\n",
              "  </svg>\n",
              "      </button>\n",
              "      \n",
              "  <style>\n",
              "    .colab-df-container {\n",
              "      display:flex;\n",
              "      flex-wrap:wrap;\n",
              "      gap: 12px;\n",
              "    }\n",
              "\n",
              "    .colab-df-convert {\n",
              "      background-color: #E8F0FE;\n",
              "      border: none;\n",
              "      border-radius: 50%;\n",
              "      cursor: pointer;\n",
              "      display: none;\n",
              "      fill: #1967D2;\n",
              "      height: 32px;\n",
              "      padding: 0 0 0 0;\n",
              "      width: 32px;\n",
              "    }\n",
              "\n",
              "    .colab-df-convert:hover {\n",
              "      background-color: #E2EBFA;\n",
              "      box-shadow: 0px 1px 2px rgba(60, 64, 67, 0.3), 0px 1px 3px 1px rgba(60, 64, 67, 0.15);\n",
              "      fill: #174EA6;\n",
              "    }\n",
              "\n",
              "    [theme=dark] .colab-df-convert {\n",
              "      background-color: #3B4455;\n",
              "      fill: #D2E3FC;\n",
              "    }\n",
              "\n",
              "    [theme=dark] .colab-df-convert:hover {\n",
              "      background-color: #434B5C;\n",
              "      box-shadow: 0px 1px 3px 1px rgba(0, 0, 0, 0.15);\n",
              "      filter: drop-shadow(0px 1px 2px rgba(0, 0, 0, 0.3));\n",
              "      fill: #FFFFFF;\n",
              "    }\n",
              "  </style>\n",
              "\n",
              "      <script>\n",
              "        const buttonEl =\n",
              "          document.querySelector('#df-9e2270a9-16bf-41bc-ab3a-5bd0799ea337 button.colab-df-convert');\n",
              "        buttonEl.style.display =\n",
              "          google.colab.kernel.accessAllowed ? 'block' : 'none';\n",
              "\n",
              "        async function convertToInteractive(key) {\n",
              "          const element = document.querySelector('#df-9e2270a9-16bf-41bc-ab3a-5bd0799ea337');\n",
              "          const dataTable =\n",
              "            await google.colab.kernel.invokeFunction('convertToInteractive',\n",
              "                                                     [key], {});\n",
              "          if (!dataTable) return;\n",
              "\n",
              "          const docLinkHtml = 'Like what you see? Visit the ' +\n",
              "            '<a target=\"_blank\" href=https://colab.research.google.com/notebooks/data_table.ipynb>data table notebook</a>'\n",
              "            + ' to learn more about interactive tables.';\n",
              "          element.innerHTML = '';\n",
              "          dataTable['output_type'] = 'display_data';\n",
              "          await google.colab.output.renderOutput(dataTable, element);\n",
              "          const docLink = document.createElement('div');\n",
              "          docLink.innerHTML = docLinkHtml;\n",
              "          element.appendChild(docLink);\n",
              "        }\n",
              "      </script>\n",
              "    </div>\n",
              "  </div>\n",
              "  "
            ]
          },
          "metadata": {},
          "execution_count": 85
        }
      ]
    },
    {
      "cell_type": "markdown",
      "source": [
        "Convertendo a variável `TotalCharges` em float, aparecem 11 valores ausentes, todas essas entradas, na variável `tenure` tem o valor em zero. Sendo assim, \n",
        "estaremos excluindo essas entradas porque esses clientes ainda não possuem um mês de serviço e não influenciarão nas nossas análises de Churn."
      ],
      "metadata": {
        "id": "vPnvLkj_2cvI"
      }
    },
    {
      "cell_type": "code",
      "source": [
        "#criando uma cópia dos dados\n",
        "df_clean = df.copy()\n",
        "\n",
        "#tratando dos valores vazios\n",
        "df_clean.dropna(inplace=True)"
      ],
      "metadata": {
        "id": "r4JrVhtAg_K_"
      },
      "execution_count": null,
      "outputs": []
    },
    {
      "cell_type": "markdown",
      "source": [
        "Vamos verificar os valores únicos por coluna, isso irá auxiliar na identificação de variáveis potencialmente categóricas."
      ],
      "metadata": {
        "id": "YZNnDmiqzsQX"
      }
    },
    {
      "cell_type": "code",
      "source": [
        "#verificando os valores únicos por coluna\n",
        "pd.DataFrame(df_clean.nunique(),columns=['Quantidade de valores únicos por variável'])"
      ],
      "metadata": {
        "colab": {
          "base_uri": "https://localhost:8080/",
          "height": 708
        },
        "id": "Rkbq5oiYhvyg",
        "outputId": "94ba317f-167d-4ee8-8386-a8745e28126a"
      },
      "execution_count": null,
      "outputs": [
        {
          "output_type": "execute_result",
          "data": {
            "text/plain": [
              "                  Quantidade de valores únicos por variável\n",
              "customerID                                             7032\n",
              "gender                                                    2\n",
              "SeniorCitizen                                             2\n",
              "Partner                                                   2\n",
              "Dependents                                                2\n",
              "tenure                                                   72\n",
              "PhoneService                                              2\n",
              "MultipleLines                                             3\n",
              "InternetService                                           3\n",
              "OnlineSecurity                                            3\n",
              "OnlineBackup                                              3\n",
              "DeviceProtection                                          3\n",
              "TechSupport                                               3\n",
              "StreamingTV                                               3\n",
              "StreamingMovies                                           3\n",
              "Contract                                                  3\n",
              "PaperlessBilling                                          2\n",
              "PaymentMethod                                             4\n",
              "MonthlyCharges                                         1584\n",
              "TotalCharges                                           6530\n",
              "Churn                                                     2"
            ],
            "text/html": [
              "\n",
              "  <div id=\"df-a7b1c74b-80db-4097-8fcc-d62d2d488c4e\">\n",
              "    <div class=\"colab-df-container\">\n",
              "      <div>\n",
              "<style scoped>\n",
              "    .dataframe tbody tr th:only-of-type {\n",
              "        vertical-align: middle;\n",
              "    }\n",
              "\n",
              "    .dataframe tbody tr th {\n",
              "        vertical-align: top;\n",
              "    }\n",
              "\n",
              "    .dataframe thead th {\n",
              "        text-align: right;\n",
              "    }\n",
              "</style>\n",
              "<table border=\"1\" class=\"dataframe\">\n",
              "  <thead>\n",
              "    <tr style=\"text-align: right;\">\n",
              "      <th></th>\n",
              "      <th>Quantidade de valores únicos por variável</th>\n",
              "    </tr>\n",
              "  </thead>\n",
              "  <tbody>\n",
              "    <tr>\n",
              "      <th>customerID</th>\n",
              "      <td>7032</td>\n",
              "    </tr>\n",
              "    <tr>\n",
              "      <th>gender</th>\n",
              "      <td>2</td>\n",
              "    </tr>\n",
              "    <tr>\n",
              "      <th>SeniorCitizen</th>\n",
              "      <td>2</td>\n",
              "    </tr>\n",
              "    <tr>\n",
              "      <th>Partner</th>\n",
              "      <td>2</td>\n",
              "    </tr>\n",
              "    <tr>\n",
              "      <th>Dependents</th>\n",
              "      <td>2</td>\n",
              "    </tr>\n",
              "    <tr>\n",
              "      <th>tenure</th>\n",
              "      <td>72</td>\n",
              "    </tr>\n",
              "    <tr>\n",
              "      <th>PhoneService</th>\n",
              "      <td>2</td>\n",
              "    </tr>\n",
              "    <tr>\n",
              "      <th>MultipleLines</th>\n",
              "      <td>3</td>\n",
              "    </tr>\n",
              "    <tr>\n",
              "      <th>InternetService</th>\n",
              "      <td>3</td>\n",
              "    </tr>\n",
              "    <tr>\n",
              "      <th>OnlineSecurity</th>\n",
              "      <td>3</td>\n",
              "    </tr>\n",
              "    <tr>\n",
              "      <th>OnlineBackup</th>\n",
              "      <td>3</td>\n",
              "    </tr>\n",
              "    <tr>\n",
              "      <th>DeviceProtection</th>\n",
              "      <td>3</td>\n",
              "    </tr>\n",
              "    <tr>\n",
              "      <th>TechSupport</th>\n",
              "      <td>3</td>\n",
              "    </tr>\n",
              "    <tr>\n",
              "      <th>StreamingTV</th>\n",
              "      <td>3</td>\n",
              "    </tr>\n",
              "    <tr>\n",
              "      <th>StreamingMovies</th>\n",
              "      <td>3</td>\n",
              "    </tr>\n",
              "    <tr>\n",
              "      <th>Contract</th>\n",
              "      <td>3</td>\n",
              "    </tr>\n",
              "    <tr>\n",
              "      <th>PaperlessBilling</th>\n",
              "      <td>2</td>\n",
              "    </tr>\n",
              "    <tr>\n",
              "      <th>PaymentMethod</th>\n",
              "      <td>4</td>\n",
              "    </tr>\n",
              "    <tr>\n",
              "      <th>MonthlyCharges</th>\n",
              "      <td>1584</td>\n",
              "    </tr>\n",
              "    <tr>\n",
              "      <th>TotalCharges</th>\n",
              "      <td>6530</td>\n",
              "    </tr>\n",
              "    <tr>\n",
              "      <th>Churn</th>\n",
              "      <td>2</td>\n",
              "    </tr>\n",
              "  </tbody>\n",
              "</table>\n",
              "</div>\n",
              "      <button class=\"colab-df-convert\" onclick=\"convertToInteractive('df-a7b1c74b-80db-4097-8fcc-d62d2d488c4e')\"\n",
              "              title=\"Convert this dataframe to an interactive table.\"\n",
              "              style=\"display:none;\">\n",
              "        \n",
              "  <svg xmlns=\"http://www.w3.org/2000/svg\" height=\"24px\"viewBox=\"0 0 24 24\"\n",
              "       width=\"24px\">\n",
              "    <path d=\"M0 0h24v24H0V0z\" fill=\"none\"/>\n",
              "    <path d=\"M18.56 5.44l.94 2.06.94-2.06 2.06-.94-2.06-.94-.94-2.06-.94 2.06-2.06.94zm-11 1L8.5 8.5l.94-2.06 2.06-.94-2.06-.94L8.5 2.5l-.94 2.06-2.06.94zm10 10l.94 2.06.94-2.06 2.06-.94-2.06-.94-.94-2.06-.94 2.06-2.06.94z\"/><path d=\"M17.41 7.96l-1.37-1.37c-.4-.4-.92-.59-1.43-.59-.52 0-1.04.2-1.43.59L10.3 9.45l-7.72 7.72c-.78.78-.78 2.05 0 2.83L4 21.41c.39.39.9.59 1.41.59.51 0 1.02-.2 1.41-.59l7.78-7.78 2.81-2.81c.8-.78.8-2.07 0-2.86zM5.41 20L4 18.59l7.72-7.72 1.47 1.35L5.41 20z\"/>\n",
              "  </svg>\n",
              "      </button>\n",
              "      \n",
              "  <style>\n",
              "    .colab-df-container {\n",
              "      display:flex;\n",
              "      flex-wrap:wrap;\n",
              "      gap: 12px;\n",
              "    }\n",
              "\n",
              "    .colab-df-convert {\n",
              "      background-color: #E8F0FE;\n",
              "      border: none;\n",
              "      border-radius: 50%;\n",
              "      cursor: pointer;\n",
              "      display: none;\n",
              "      fill: #1967D2;\n",
              "      height: 32px;\n",
              "      padding: 0 0 0 0;\n",
              "      width: 32px;\n",
              "    }\n",
              "\n",
              "    .colab-df-convert:hover {\n",
              "      background-color: #E2EBFA;\n",
              "      box-shadow: 0px 1px 2px rgba(60, 64, 67, 0.3), 0px 1px 3px 1px rgba(60, 64, 67, 0.15);\n",
              "      fill: #174EA6;\n",
              "    }\n",
              "\n",
              "    [theme=dark] .colab-df-convert {\n",
              "      background-color: #3B4455;\n",
              "      fill: #D2E3FC;\n",
              "    }\n",
              "\n",
              "    [theme=dark] .colab-df-convert:hover {\n",
              "      background-color: #434B5C;\n",
              "      box-shadow: 0px 1px 3px 1px rgba(0, 0, 0, 0.15);\n",
              "      filter: drop-shadow(0px 1px 2px rgba(0, 0, 0, 0.3));\n",
              "      fill: #FFFFFF;\n",
              "    }\n",
              "  </style>\n",
              "\n",
              "      <script>\n",
              "        const buttonEl =\n",
              "          document.querySelector('#df-a7b1c74b-80db-4097-8fcc-d62d2d488c4e button.colab-df-convert');\n",
              "        buttonEl.style.display =\n",
              "          google.colab.kernel.accessAllowed ? 'block' : 'none';\n",
              "\n",
              "        async function convertToInteractive(key) {\n",
              "          const element = document.querySelector('#df-a7b1c74b-80db-4097-8fcc-d62d2d488c4e');\n",
              "          const dataTable =\n",
              "            await google.colab.kernel.invokeFunction('convertToInteractive',\n",
              "                                                     [key], {});\n",
              "          if (!dataTable) return;\n",
              "\n",
              "          const docLinkHtml = 'Like what you see? Visit the ' +\n",
              "            '<a target=\"_blank\" href=https://colab.research.google.com/notebooks/data_table.ipynb>data table notebook</a>'\n",
              "            + ' to learn more about interactive tables.';\n",
              "          element.innerHTML = '';\n",
              "          dataTable['output_type'] = 'display_data';\n",
              "          await google.colab.output.renderOutput(dataTable, element);\n",
              "          const docLink = document.createElement('div');\n",
              "          docLink.innerHTML = docLinkHtml;\n",
              "          element.appendChild(docLink);\n",
              "        }\n",
              "      </script>\n",
              "    </div>\n",
              "  </div>\n",
              "  "
            ]
          },
          "metadata": {},
          "execution_count": 87
        }
      ]
    },
    {
      "cell_type": "markdown",
      "source": [
        "Várias features precisam ser codificadas para valores numéricos, para serem utilizadas em nosso modelo.\n",
        "Há várias features binárias, incluindo nossa variável alvo, ou com múltiplos valores, cada um representando uma categoria.\n",
        "\n",
        "A variável alvo está na coluna `Churn`, indicando a situação de churn.\n",
        "\n",
        "Também, observa-se que a coluna `costumerID` não agrega nenhuma informação, pois se trata de um identificador único para cada cliente, sendo assim, podemos eliminá-lo antes de usar no modelo de machine learning."
      ],
      "metadata": {
        "id": "n8_clECp3EvW"
      }
    },
    {
      "cell_type": "code",
      "source": [
        "# remover coluna costumerID\n",
        "df_clean.drop(\"customerID\", axis=1, inplace=True)"
      ],
      "metadata": {
        "id": "qDagPELfT0hk"
      },
      "execution_count": null,
      "outputs": []
    },
    {
      "cell_type": "code",
      "metadata": {
        "id": "e7bMAWBLGL89",
        "colab": {
          "base_uri": "https://localhost:8080/",
          "height": 300
        },
        "outputId": "0e472925-649d-4a92-abc1-4990a732f6be"
      },
      "source": [
        "#verificando dados estatísticos dos dados\n",
        "df_clean.describe() "
      ],
      "execution_count": null,
      "outputs": [
        {
          "output_type": "execute_result",
          "data": {
            "text/plain": [
              "       SeniorCitizen       tenure  MonthlyCharges  TotalCharges\n",
              "count    7032.000000  7032.000000     7032.000000   7032.000000\n",
              "mean        0.162400    32.421786       64.798208   2283.300441\n",
              "std         0.368844    24.545260       30.085974   2266.771362\n",
              "min         0.000000     1.000000       18.250000     18.800000\n",
              "25%         0.000000     9.000000       35.587500    401.450000\n",
              "50%         0.000000    29.000000       70.350000   1397.475000\n",
              "75%         0.000000    55.000000       89.862500   3794.737500\n",
              "max         1.000000    72.000000      118.750000   8684.800000"
            ],
            "text/html": [
              "\n",
              "  <div id=\"df-9fc33253-6ddf-482c-b77d-48cfc86f3dc0\">\n",
              "    <div class=\"colab-df-container\">\n",
              "      <div>\n",
              "<style scoped>\n",
              "    .dataframe tbody tr th:only-of-type {\n",
              "        vertical-align: middle;\n",
              "    }\n",
              "\n",
              "    .dataframe tbody tr th {\n",
              "        vertical-align: top;\n",
              "    }\n",
              "\n",
              "    .dataframe thead th {\n",
              "        text-align: right;\n",
              "    }\n",
              "</style>\n",
              "<table border=\"1\" class=\"dataframe\">\n",
              "  <thead>\n",
              "    <tr style=\"text-align: right;\">\n",
              "      <th></th>\n",
              "      <th>SeniorCitizen</th>\n",
              "      <th>tenure</th>\n",
              "      <th>MonthlyCharges</th>\n",
              "      <th>TotalCharges</th>\n",
              "    </tr>\n",
              "  </thead>\n",
              "  <tbody>\n",
              "    <tr>\n",
              "      <th>count</th>\n",
              "      <td>7032.000000</td>\n",
              "      <td>7032.000000</td>\n",
              "      <td>7032.000000</td>\n",
              "      <td>7032.000000</td>\n",
              "    </tr>\n",
              "    <tr>\n",
              "      <th>mean</th>\n",
              "      <td>0.162400</td>\n",
              "      <td>32.421786</td>\n",
              "      <td>64.798208</td>\n",
              "      <td>2283.300441</td>\n",
              "    </tr>\n",
              "    <tr>\n",
              "      <th>std</th>\n",
              "      <td>0.368844</td>\n",
              "      <td>24.545260</td>\n",
              "      <td>30.085974</td>\n",
              "      <td>2266.771362</td>\n",
              "    </tr>\n",
              "    <tr>\n",
              "      <th>min</th>\n",
              "      <td>0.000000</td>\n",
              "      <td>1.000000</td>\n",
              "      <td>18.250000</td>\n",
              "      <td>18.800000</td>\n",
              "    </tr>\n",
              "    <tr>\n",
              "      <th>25%</th>\n",
              "      <td>0.000000</td>\n",
              "      <td>9.000000</td>\n",
              "      <td>35.587500</td>\n",
              "      <td>401.450000</td>\n",
              "    </tr>\n",
              "    <tr>\n",
              "      <th>50%</th>\n",
              "      <td>0.000000</td>\n",
              "      <td>29.000000</td>\n",
              "      <td>70.350000</td>\n",
              "      <td>1397.475000</td>\n",
              "    </tr>\n",
              "    <tr>\n",
              "      <th>75%</th>\n",
              "      <td>0.000000</td>\n",
              "      <td>55.000000</td>\n",
              "      <td>89.862500</td>\n",
              "      <td>3794.737500</td>\n",
              "    </tr>\n",
              "    <tr>\n",
              "      <th>max</th>\n",
              "      <td>1.000000</td>\n",
              "      <td>72.000000</td>\n",
              "      <td>118.750000</td>\n",
              "      <td>8684.800000</td>\n",
              "    </tr>\n",
              "  </tbody>\n",
              "</table>\n",
              "</div>\n",
              "      <button class=\"colab-df-convert\" onclick=\"convertToInteractive('df-9fc33253-6ddf-482c-b77d-48cfc86f3dc0')\"\n",
              "              title=\"Convert this dataframe to an interactive table.\"\n",
              "              style=\"display:none;\">\n",
              "        \n",
              "  <svg xmlns=\"http://www.w3.org/2000/svg\" height=\"24px\"viewBox=\"0 0 24 24\"\n",
              "       width=\"24px\">\n",
              "    <path d=\"M0 0h24v24H0V0z\" fill=\"none\"/>\n",
              "    <path d=\"M18.56 5.44l.94 2.06.94-2.06 2.06-.94-2.06-.94-.94-2.06-.94 2.06-2.06.94zm-11 1L8.5 8.5l.94-2.06 2.06-.94-2.06-.94L8.5 2.5l-.94 2.06-2.06.94zm10 10l.94 2.06.94-2.06 2.06-.94-2.06-.94-.94-2.06-.94 2.06-2.06.94z\"/><path d=\"M17.41 7.96l-1.37-1.37c-.4-.4-.92-.59-1.43-.59-.52 0-1.04.2-1.43.59L10.3 9.45l-7.72 7.72c-.78.78-.78 2.05 0 2.83L4 21.41c.39.39.9.59 1.41.59.51 0 1.02-.2 1.41-.59l7.78-7.78 2.81-2.81c.8-.78.8-2.07 0-2.86zM5.41 20L4 18.59l7.72-7.72 1.47 1.35L5.41 20z\"/>\n",
              "  </svg>\n",
              "      </button>\n",
              "      \n",
              "  <style>\n",
              "    .colab-df-container {\n",
              "      display:flex;\n",
              "      flex-wrap:wrap;\n",
              "      gap: 12px;\n",
              "    }\n",
              "\n",
              "    .colab-df-convert {\n",
              "      background-color: #E8F0FE;\n",
              "      border: none;\n",
              "      border-radius: 50%;\n",
              "      cursor: pointer;\n",
              "      display: none;\n",
              "      fill: #1967D2;\n",
              "      height: 32px;\n",
              "      padding: 0 0 0 0;\n",
              "      width: 32px;\n",
              "    }\n",
              "\n",
              "    .colab-df-convert:hover {\n",
              "      background-color: #E2EBFA;\n",
              "      box-shadow: 0px 1px 2px rgba(60, 64, 67, 0.3), 0px 1px 3px 1px rgba(60, 64, 67, 0.15);\n",
              "      fill: #174EA6;\n",
              "    }\n",
              "\n",
              "    [theme=dark] .colab-df-convert {\n",
              "      background-color: #3B4455;\n",
              "      fill: #D2E3FC;\n",
              "    }\n",
              "\n",
              "    [theme=dark] .colab-df-convert:hover {\n",
              "      background-color: #434B5C;\n",
              "      box-shadow: 0px 1px 3px 1px rgba(0, 0, 0, 0.15);\n",
              "      filter: drop-shadow(0px 1px 2px rgba(0, 0, 0, 0.3));\n",
              "      fill: #FFFFFF;\n",
              "    }\n",
              "  </style>\n",
              "\n",
              "      <script>\n",
              "        const buttonEl =\n",
              "          document.querySelector('#df-9fc33253-6ddf-482c-b77d-48cfc86f3dc0 button.colab-df-convert');\n",
              "        buttonEl.style.display =\n",
              "          google.colab.kernel.accessAllowed ? 'block' : 'none';\n",
              "\n",
              "        async function convertToInteractive(key) {\n",
              "          const element = document.querySelector('#df-9fc33253-6ddf-482c-b77d-48cfc86f3dc0');\n",
              "          const dataTable =\n",
              "            await google.colab.kernel.invokeFunction('convertToInteractive',\n",
              "                                                     [key], {});\n",
              "          if (!dataTable) return;\n",
              "\n",
              "          const docLinkHtml = 'Like what you see? Visit the ' +\n",
              "            '<a target=\"_blank\" href=https://colab.research.google.com/notebooks/data_table.ipynb>data table notebook</a>'\n",
              "            + ' to learn more about interactive tables.';\n",
              "          element.innerHTML = '';\n",
              "          dataTable['output_type'] = 'display_data';\n",
              "          await google.colab.output.renderOutput(dataTable, element);\n",
              "          const docLink = document.createElement('div');\n",
              "          docLink.innerHTML = docLinkHtml;\n",
              "          element.appendChild(docLink);\n",
              "        }\n",
              "      </script>\n",
              "    </div>\n",
              "  </div>\n",
              "  "
            ]
          },
          "metadata": {},
          "execution_count": 89
        }
      ]
    },
    {
      "cell_type": "markdown",
      "source": [
        "Analisando os dados estatísticos podemos perceber que 75% dos clientes:\n",
        "\n",
        "\n",
        "*   Possuem 4 anos e 5 meses de utilização do serviço;\n",
        "\n",
        "*   Pagam uma taxa mensal de $ 89,86.\n",
        "\n",
        "*   No período de 55 meses, cada cliente já pagou o total de $ 3.794,73.\n"
      ],
      "metadata": {
        "id": "vGy7Iz3I4OXo"
      }
    },
    {
      "cell_type": "markdown",
      "metadata": {
        "id": "h6TedGS1UWUZ"
      },
      "source": [
        "Analisando o boxplot para as colunas `MonthlyCharges` e `TotalCharges`, percebemos que o gráfico não apresenta nenhum valor fora dos limites superior e inferior."
      ]
    },
    {
      "cell_type": "code",
      "metadata": {
        "id": "vyg2LHeWTHc-",
        "colab": {
          "base_uri": "https://localhost:8080/",
          "height": 297
        },
        "outputId": "fc3df973-12cb-41b4-bb39-383cf9d31aba"
      },
      "source": [
        "#boxplot para as variáveis MonthlyCharges e TotalCharges\n",
        "fig, ax = plt.subplots(nrows=1, ncols=2, figsize=(12, 4))\n",
        "sns.boxplot(df_clean['MonthlyCharges'], ax=ax[0], color='#00AFCF')\n",
        "sns.boxplot(df_clean['TotalCharges'], ax=ax[1], color='#00AFCF')\n",
        "plt.tight_layout()"
      ],
      "execution_count": null,
      "outputs": [
        {
          "output_type": "display_data",
          "data": {
            "text/plain": [
              "<Figure size 864x288 with 2 Axes>"
            ],
            "image/png": "[encoded data removed]"
          },
          "metadata": {
            "needs_background": "light"
          }
        }
      ]
    },
    {
      "cell_type": "markdown",
      "metadata": {
        "id": "ylgfUKN5UzBU"
      },
      "source": [
        "A variável `tenure` está relacionada ao tempo que um cliente permance assinando determinado serviço, por mês. Em outras palavras, pode-se dizer que é um indicativo de fidelidade."
      ]
    },
    {
      "cell_type": "markdown",
      "source": [
        "###**Quantidade de clientes por mês de utilização do serviço**"
      ],
      "metadata": {
        "id": "5wKOptzMoIel"
      }
    },
    {
      "cell_type": "code",
      "metadata": {
        "id": "WH-wPhe6TnqY",
        "colab": {
          "base_uri": "https://localhost:8080/",
          "height": 297
        },
        "outputId": "71d65a10-33e7-488d-9327-826aaeaf8979"
      },
      "source": [
        "#verificando a quantidade de clientes por mês\n",
        "fig, ax = plt.subplots(figsize=(19, 4))\n",
        "sns.countplot(df['tenure'], ax=ax)\n",
        "ax.set_title('Quantidade de clientes x Quantidade de meses utilizando o serviço', loc='left', pad=40, fontdict={'fontsize':18}, color='#3f3f4e');\n",
        "ax.set_frame_on(False)\n",
        "plt.yticks(fontsize=13, color='#3f3f4e')\n",
        "plt.xticks(fontsize=13, color='#3f3f4e')\n",
        "ax.set_ylabel('Clientes', fontsize=16, color='#3f3f4e')\n",
        "ax.set_xlabel('Meses', fontsize=16, color='#3f3f4e')\n",
        "plt.tight_layout()"
      ],
      "execution_count": null,
      "outputs": [
        {
          "output_type": "display_data",
          "data": {
            "text/plain": [
              "<Figure size 1368x288 with 1 Axes>"
            ],
            "image/png": "[encoded data removed]"
          },
          "metadata": {
            "needs_background": "light"
          }
        }
      ]
    },
    {
      "cell_type": "markdown",
      "source": [
        "Vamos ver também a quantidade de clientes por tipo de contrato."
      ],
      "metadata": {
        "id": "YVbjz92vs4sS"
      }
    },
    {
      "cell_type": "markdown",
      "source": [
        "###**Quantidade de clientes por tipo de contrato**"
      ],
      "metadata": {
        "id": "9dXrIaB5oWHE"
      }
    },
    {
      "cell_type": "code",
      "source": [
        "#criando o gráfico\n",
        "fig, ax = plt.subplots(figsize=(8, 4))\n",
        "sns.countplot(df['Contract'], color='#00AFCF', ax=ax)\n",
        "ax.set_title('Quantidade de clientes por tipo de contrato', loc='left', pad=40, fontdict={'fontsize':20}, color='#3f3f4e');\n",
        "ax.set_frame_on(False)\n",
        "plt.yticks(fontsize=13, color='#3f3f4e')\n",
        "plt.xticks(fontsize=13, color='#3f3f4e')\n",
        "ax.tick_params(axis='x', length=0, labelsize=15, colors='dimgrey')\n",
        "ax.set_xlabel(' ')\n",
        "ax.get_yaxis().set_visible(False)\n",
        "\n",
        "#incluindo os rótulos\n",
        "for retangulo in ax.patches:\n",
        "  ax.text(retangulo.get_x() + retangulo.get_width() / 2,\n",
        "          retangulo.get_height() + 100,\n",
        "          '{:,}'.format(int(retangulo.get_height())).replace(',','.'),\n",
        "          ha = 'center',\n",
        "          fontsize=18, color='grey')\n",
        "\n",
        "#plotando o gráfico\n",
        "plt.tight_layout()"
      ],
      "metadata": {
        "id": "tdX4pdgms-xK",
        "colab": {
          "base_uri": "https://localhost:8080/",
          "height": 297
        },
        "outputId": "33c68a33-0754-456a-b7c2-73b900b46bae"
      },
      "execution_count": null,
      "outputs": [
        {
          "output_type": "display_data",
          "data": {
            "text/plain": [
              "<Figure size 576x288 with 1 Axes>"
            ],
            "image/png": "[encoded data removed]"
          },
          "metadata": {
            "needs_background": "light"
          }
        }
      ]
    },
    {
      "cell_type": "code",
      "source": [
        "print('CONTRATOS CANCELADOS')\n",
        "print('Tipo de contrato x Qtd. de clientes que cancelaram')\n",
        "print(df_clean[df_clean.Churn == 'Yes'].Contract.value_counts())"
      ],
      "metadata": {
        "colab": {
          "base_uri": "https://localhost:8080/"
        },
        "id": "H2bMEjvpxW1P",
        "outputId": "794921b9-c50a-46d5-ea86-9a9e57a97456"
      },
      "execution_count": null,
      "outputs": [
        {
          "output_type": "stream",
          "name": "stdout",
          "text": [
            "CONTRATOS CANCELADOS\n",
            "Tipo de contrato x Qtd. de clientes que cancelaram\n",
            "Month-to-month    1655\n",
            "One year           166\n",
            "Two year            48\n",
            "Name: Contract, dtype: int64\n"
          ]
        }
      ]
    },
    {
      "cell_type": "markdown",
      "source": [
        "A maioria dos clientes que cancelaram, possuem o tipo de contrato \"Mensal\"."
      ],
      "metadata": {
        "id": "KbyHrNkBwseZ"
      }
    },
    {
      "cell_type": "markdown",
      "source": [
        "###**Quantidade de clientes que cancelaram o serviço**"
      ],
      "metadata": {
        "id": "deTs1pr_oeb6"
      }
    },
    {
      "cell_type": "code",
      "source": [
        "#criando o gráfico\n",
        "fig, ax = plt.subplots(figsize=(8, 4))\n",
        "sns.countplot(df['Churn'], ax=ax, palette=['#00AFCF','#ff5700'])\n",
        "ax.set_title('Quantidade de clientes que cancelaram o serviço', loc='left', pad=40, fontdict={'fontsize':20}, color='#3f3f4e');\n",
        "ax.set_frame_on(False)\n",
        "ax.set_xticklabels(['Não cancelou','Cancelou'])\n",
        "ax.tick_params(axis='x', length=0, labelsize=17, colors='dimgrey')\n",
        "ax.set_xlabel(' ')\n",
        "ax.get_yaxis().set_visible(False)\n",
        "\n",
        "#incluindo os rótulos\n",
        "for retangulo in ax.patches:\n",
        "  ax.text(retangulo.get_x() + retangulo.get_width() / 2,\n",
        "          retangulo.get_height() + 100,\n",
        "          '{:,}'.format(int(retangulo.get_height())).replace(',','.'),\n",
        "          ha = 'center',\n",
        "          fontsize=18, color='grey')\n",
        "\n",
        "#plotando o gráfico\n",
        "plt.tight_layout()"
      ],
      "metadata": {
        "colab": {
          "base_uri": "https://localhost:8080/",
          "height": 297
        },
        "id": "q3zfRKSm6_FE",
        "outputId": "2c52f56d-43b5-4967-895c-deca6ba68d8e"
      },
      "execution_count": null,
      "outputs": [
        {
          "output_type": "display_data",
          "data": {
            "text/plain": [
              "<Figure size 576x288 with 1 Axes>"
            ],
            "image/png": "[encoded data removed]"
          },
          "metadata": {
            "needs_background": "light"
          }
        }
      ]
    },
    {
      "cell_type": "code",
      "source": [
        "# % cancelamentos\n",
        "print(f'Não cancelou o serviço: {df.Churn.value_counts()[0] / df.shape[0]*100:.2f}%')\n",
        "print(f'Cancelou o serviço: {df.Churn.value_counts()[1] / df.shape[0]*100:.2f}%')"
      ],
      "metadata": {
        "colab": {
          "base_uri": "https://localhost:8080/"
        },
        "id": "5060WOwWJtT9",
        "outputId": "1376e2f1-6006-4a3f-ead1-be1b1f02fbcb"
      },
      "execution_count": null,
      "outputs": [
        {
          "output_type": "stream",
          "name": "stdout",
          "text": [
            "Não cancelou o serviço: 73.46%\n",
            "Cancelou o serviço: 26.54%\n"
          ]
        }
      ]
    },
    {
      "cell_type": "markdown",
      "source": [
        "Podemos observar que os dados estão desbalanceados, e será necessário efetuarmos o balanceamento posteriormente."
      ],
      "metadata": {
        "id": "5QQZLOTYJrHI"
      }
    },
    {
      "cell_type": "markdown",
      "source": [
        "###**Quantidade de clientes por gênero**"
      ],
      "metadata": {
        "id": "zVKj5Nu9yZwM"
      }
    },
    {
      "cell_type": "code",
      "source": [
        "# criando o gráfico\n",
        "fig, ax = plt.subplots(figsize=(12,4),nrows=1, ncols=2)\n",
        "sns.countplot(x=df.gender, ax=ax[0],color='#00AFCF');\n",
        "sns.countplot(x=df[df.Churn == 'Yes'].gender, ax=ax[1],color='#ff5700');\n",
        "ax[0].set_title('Quantidade de clientes por gênero', loc='left', pad=40, fontdict={'fontsize':20}, color='#3f3f4e');\n",
        "ax[0].set_frame_on(False)\n",
        "ax[1].set_frame_on(False)\n",
        "ax[0].set_xticklabels(['Masculino','Feminino'])\n",
        "ax[1].set_xticklabels(['Masculino','Feminino'])\n",
        "ax[0].tick_params(axis='x', length=0, labelsize=14, colors='dimgrey')\n",
        "ax[1].tick_params(axis='x', length=0, labelsize=14, colors='dimgrey')\n",
        "ax[0].set_xlabel('Total de Clientes', fontdict={'fontsize':20}, color='#3f3f4e')\n",
        "ax[1].set_xlabel('Cancelamentos', fontdict={'fontsize':20}, color='#3f3f4e')\n",
        "ax[0].get_yaxis().set_visible(False)\n",
        "ax[1].get_yaxis().set_visible(False)\n",
        "\n",
        "\n",
        "#incluindo os rótulos\n",
        "for retangulo in ax[0].patches:\n",
        "  ax[0].text(retangulo.get_x() + retangulo.get_width() / 2,\n",
        "          retangulo.get_height() + 100,\n",
        "          '{:,}'.format(int(retangulo.get_height())).replace(',','.'),\n",
        "          ha = 'center',\n",
        "          fontsize=18, color='grey')\n",
        "  \n",
        "for retangulo in ax[1].patches:\n",
        "  ax[1].text(retangulo.get_x() + retangulo.get_width() / 2,\n",
        "          retangulo.get_height() + 30,\n",
        "          '{:,}'.format(int(retangulo.get_height())).replace(',','.'),\n",
        "          ha = 'center',\n",
        "          fontsize=18, color='grey')\n",
        "\n",
        "#plotando o gráfico\n",
        "plt.tight_layout()"
      ],
      "metadata": {
        "colab": {
          "base_uri": "https://localhost:8080/",
          "height": 297
        },
        "id": "nUVvmIR6yfwc",
        "outputId": "5a55573e-d2fc-40ad-befb-a9a8b1c17b46"
      },
      "execution_count": null,
      "outputs": [
        {
          "output_type": "display_data",
          "data": {
            "text/plain": [
              "<Figure size 864x288 with 2 Axes>"
            ],
            "image/png": "[encoded data removed]"
          },
          "metadata": {
            "needs_background": "light"
          }
        }
      ]
    },
    {
      "cell_type": "markdown",
      "source": [
        "Podemos perceber que a quantidade de homens e mulheres são similares, inclusive para os cancelamentos, sendo assim, concluimos que o gênero não tem relação com os cancelamentos."
      ],
      "metadata": {
        "id": "-NZylYkS5b6H"
      }
    },
    {
      "cell_type": "markdown",
      "source": [
        "###**Quantidade de clientes com mais de 65 anos**"
      ],
      "metadata": {
        "id": "uHF8qmSLWzti"
      }
    },
    {
      "cell_type": "code",
      "source": [
        "# criando o gráfico\n",
        "fig, ax = plt.subplots(figsize=(12,4),nrows=1, ncols=2)\n",
        "sns.countplot(x=df.SeniorCitizen, ax=ax[0],color='#00AFCF');\n",
        "sns.countplot(x=df[df.Churn == 'Yes'].SeniorCitizen, ax=ax[1],color='#ff5700');\n",
        "ax[0].set_title('Quantidade de clientes com mais de 65 anos (idosos)', loc='left', pad=40, fontdict={'fontsize':20}, color='#3f3f4e');\n",
        "ax[0].set_frame_on(False)\n",
        "ax[1].set_frame_on(False)\n",
        "ax[0].set_xticklabels(['Não idosos','Idosos'])\n",
        "ax[1].set_xticklabels(['Não idosos','Idosos'])\n",
        "ax[0].tick_params(axis='x', length=0, labelsize=14, colors='dimgrey')\n",
        "ax[1].tick_params(axis='x', length=0, labelsize=14, colors='dimgrey')\n",
        "ax[0].set_xlabel('Total de Clientes', fontdict={'fontsize':20}, color='#3f3f4e')\n",
        "ax[1].set_xlabel('Cancelamentos', fontdict={'fontsize':20}, color='#3f3f4e')\n",
        "ax[0].get_yaxis().set_visible(False)\n",
        "ax[1].get_yaxis().set_visible(False)\n",
        "\n",
        "\n",
        "#incluindo os rótulos\n",
        "for retangulo in ax[0].patches:\n",
        "  ax[0].text(retangulo.get_x() + retangulo.get_width() / 2,\n",
        "          retangulo.get_height() + 100,\n",
        "          '{:,}'.format(int(retangulo.get_height())).replace(',','.'),\n",
        "          ha = 'center',\n",
        "          fontsize=18, color='grey')\n",
        "  \n",
        "for retangulo in ax[1].patches:\n",
        "  ax[1].text(retangulo.get_x() + retangulo.get_width() / 2,\n",
        "          retangulo.get_height() + 30,\n",
        "          '{:,}'.format(int(retangulo.get_height())).replace(',','.'),\n",
        "          ha = 'center',\n",
        "          fontsize=18, color='grey')\n",
        "\n",
        "#plotando o gráfico\n",
        "plt.tight_layout()"
      ],
      "metadata": {
        "colab": {
          "base_uri": "https://localhost:8080/",
          "height": 297
        },
        "id": "HD5NcvVs4O5k",
        "outputId": "f1b7f068-35e6-446c-f672-d16870ed3887"
      },
      "execution_count": null,
      "outputs": [
        {
          "output_type": "display_data",
          "data": {
            "text/plain": [
              "<Figure size 864x288 with 2 Axes>"
            ],
            "image/png": "[encoded data removed]"
          },
          "metadata": {
            "needs_background": "light"
          }
        }
      ]
    },
    {
      "cell_type": "markdown",
      "source": [
        "Há muito mais clientes não idosos. Podemos observar que há quase 3x mais chances de um não idoso cancelar o serviço."
      ],
      "metadata": {
        "id": "C9vY0EYq3FjO"
      }
    },
    {
      "cell_type": "markdown",
      "source": [
        "###**Quantidade de clientes casados**"
      ],
      "metadata": {
        "id": "lN7kTeSPXFYc"
      }
    },
    {
      "cell_type": "code",
      "source": [
        "# criando o grafico\n",
        "fig, ax = plt.subplots(figsize=(12,4),nrows=1, ncols=2)\n",
        "sns.countplot(x=df.Partner, ax=ax[0],color='#00AFCF');\n",
        "sns.countplot(x=df[df.Churn == 'Yes'].Partner, ax=ax[1],color='#ff5700');\n",
        "ax[0].set_title('Quantidade de clientes casados', loc='left', pad=40, fontdict={'fontsize':20}, color='#3f3f4e');\n",
        "ax[0].set_frame_on(False)\n",
        "ax[1].set_frame_on(False)\n",
        "ax[0].set_xticklabels(['Casados','Não são casados'])\n",
        "ax[1].set_xticklabels(['Não são casados','Casados'])\n",
        "ax[0].tick_params(axis='x', length=0, labelsize=14, colors='dimgrey')\n",
        "ax[1].tick_params(axis='x', length=0, labelsize=14, colors='dimgrey')\n",
        "ax[0].set_xlabel('Total de Clientes', fontdict={'fontsize':20}, color='#3f3f4e')\n",
        "ax[1].set_xlabel('Cancelamentos', fontdict={'fontsize':20}, color='#3f3f4e')\n",
        "ax[0].get_yaxis().set_visible(False)\n",
        "ax[1].get_yaxis().set_visible(False)\n",
        "\n",
        "\n",
        "#incluindo os rótulos\n",
        "for retangulo in ax[0].patches:\n",
        "  ax[0].text(retangulo.get_x() + retangulo.get_width() / 2,\n",
        "          retangulo.get_height() + 100,\n",
        "          '{:,}'.format(int(retangulo.get_height())).replace(',','.'),\n",
        "          ha = 'center',\n",
        "          fontsize=18, color='grey')\n",
        "  \n",
        "for retangulo in ax[1].patches:\n",
        "  ax[1].text(retangulo.get_x() + retangulo.get_width() / 2,\n",
        "          retangulo.get_height() + 30,\n",
        "          '{:,}'.format(int(retangulo.get_height())).replace(',','.'),\n",
        "          ha = 'center',\n",
        "          fontsize=18, color='grey')\n",
        "\n",
        "#plotando o gráfico\n",
        "plt.tight_layout()"
      ],
      "metadata": {
        "colab": {
          "base_uri": "https://localhost:8080/",
          "height": 297
        },
        "id": "JpNnR5pe52zo",
        "outputId": "d383dc9c-a4f7-4490-9d43-749f0412028c"
      },
      "execution_count": null,
      "outputs": [
        {
          "output_type": "display_data",
          "data": {
            "text/plain": [
              "<Figure size 864x288 with 2 Axes>"
            ],
            "image/png": "[encoded data removed]"
          },
          "metadata": {
            "needs_background": "light"
          }
        }
      ]
    },
    {
      "cell_type": "markdown",
      "source": [
        "A quantidade total de clientes casados e não casados estão bem próximas, porém, quase o dobro de pessoas que não são casadas, cancelaram o serviço."
      ],
      "metadata": {
        "id": "Hfv3Dp7X7cAz"
      }
    },
    {
      "cell_type": "markdown",
      "source": [
        "###**Quantidade de clientes com filhos**"
      ],
      "metadata": {
        "id": "kaDsjg6Q7BW5"
      }
    },
    {
      "cell_type": "code",
      "source": [
        "# criando o grafico\n",
        "fig, ax = plt.subplots(figsize=(12,4),nrows=1, ncols=2)\n",
        "sns.countplot(x=df.Dependents, ax=ax[0],color='#00AFCF');\n",
        "sns.countplot(x=df[df.Churn == 'Yes'].Dependents, ax=ax[1],color='#ff5700');\n",
        "ax[0].set_title('Quantidade de clientes com filhos', loc='left', pad=40, fontdict={'fontsize':20}, color='#3f3f4e');\n",
        "ax[0].set_frame_on(False)\n",
        "ax[1].set_frame_on(False)\n",
        "ax[0].set_xticklabels(['Sem filhos','Com filhos'])\n",
        "ax[1].set_xticklabels(['Sem filhos','Com filhos'])\n",
        "ax[0].tick_params(axis='x', length=0, labelsize=14, colors='dimgrey')\n",
        "ax[1].tick_params(axis='x', length=0, labelsize=14, colors='dimgrey')\n",
        "ax[0].set_xlabel('Total de Clientes', fontdict={'fontsize':20}, color='#3f3f4e')\n",
        "ax[1].set_xlabel('Cancelamentos', fontdict={'fontsize':20}, color='#3f3f4e')\n",
        "ax[0].get_yaxis().set_visible(False)\n",
        "ax[1].get_yaxis().set_visible(False)\n",
        "\n",
        "\n",
        "#incluindo os rótulos\n",
        "for retangulo in ax[0].patches:\n",
        "  ax[0].text(retangulo.get_x() + retangulo.get_width() / 2,\n",
        "          retangulo.get_height() + 100,\n",
        "          '{:,}'.format(int(retangulo.get_height())).replace(',','.'),\n",
        "          ha = 'center',\n",
        "          fontsize=18, color='grey')\n",
        "  \n",
        "for retangulo in ax[1].patches:\n",
        "  ax[1].text(retangulo.get_x() + retangulo.get_width() / 2,\n",
        "          retangulo.get_height() + 30,\n",
        "          '{:,}'.format(int(retangulo.get_height())).replace(',','.'),\n",
        "          ha = 'center',\n",
        "          fontsize=18, color='grey')\n",
        "\n",
        "#plotando o gráfico\n",
        "plt.tight_layout()"
      ],
      "metadata": {
        "colab": {
          "base_uri": "https://localhost:8080/",
          "height": 297
        },
        "id": "lziyuDVR7-hr",
        "outputId": "e3cce1a4-12f6-4ca9-ceb0-b272a847f8f2"
      },
      "execution_count": null,
      "outputs": [
        {
          "output_type": "display_data",
          "data": {
            "text/plain": [
              "<Figure size 864x288 with 2 Axes>"
            ],
            "image/png": "[encoded data removed]"
          },
          "metadata": {
            "needs_background": "light"
          }
        }
      ]
    },
    {
      "cell_type": "markdown",
      "source": [
        "Há muito mais clientes sem filhos, inclusive o cancelamento entre pessoas sem filhos ocorre quase 5x mais, que os que possuem dependentes."
      ],
      "metadata": {
        "id": "ilSH2Q-M8WQt"
      }
    },
    {
      "cell_type": "markdown",
      "source": [
        "###**Quantidade de clientes por forma de pagamento**"
      ],
      "metadata": {
        "id": "FVEHz9Ty7VM4"
      }
    },
    {
      "cell_type": "code",
      "source": [
        "# criando o grafico\n",
        "fig, ax = plt.subplots(figsize=(19,4),nrows=1, ncols=2)\n",
        "sns.countplot(x=df.PaymentMethod, ax=ax[0],color='#00AFCF');\n",
        "sns.countplot(x=df[df.Churn == 'Yes'].PaymentMethod, ax=ax[1],color='#ff5700');\n",
        "ax[0].set_title('Quantidade de clientes x Forma de pagamento', loc='left', pad=40, fontdict={'fontsize':20}, color='#3f3f4e');\n",
        "ax[0].set_frame_on(False)\n",
        "ax[1].set_frame_on(False)\n",
        "#ax[0].set_xticklabels(['Sem filhos','Com filhos'])\n",
        "#ax[1].set_xticklabels(['Sem filhos','Com filhos'])\n",
        "ax[0].tick_params(axis='x', length=0, labelsize=12, colors='dimgrey')\n",
        "ax[1].tick_params(axis='x', length=0, labelsize=12, colors='dimgrey')\n",
        "ax[0].set_xlabel('Total de Clientes', fontdict={'fontsize':20}, color='#3f3f4e')\n",
        "ax[1].set_xlabel('Cancelamentos', fontdict={'fontsize':20}, color='#3f3f4e')\n",
        "ax[0].get_yaxis().set_visible(False)\n",
        "ax[1].get_yaxis().set_visible(False)\n",
        "\n",
        "\n",
        "#incluindo os rótulos\n",
        "for retangulo in ax[0].patches:\n",
        "  ax[0].text(retangulo.get_x() + retangulo.get_width() / 2,\n",
        "          retangulo.get_height() + 100,\n",
        "          '{:,}'.format(int(retangulo.get_height())).replace(',','.'),\n",
        "          ha = 'center',\n",
        "          fontsize=18, color='grey')\n",
        "  \n",
        "for retangulo in ax[1].patches:\n",
        "  ax[1].text(retangulo.get_x() + retangulo.get_width() / 2,\n",
        "          retangulo.get_height() + 30,\n",
        "          '{:,}'.format(int(retangulo.get_height())).replace(',','.'),\n",
        "          ha = 'center',\n",
        "          fontsize=18, color='grey')\n",
        "\n",
        "#plotando o gráfico\n",
        "plt.tight_layout()"
      ],
      "metadata": {
        "colab": {
          "base_uri": "https://localhost:8080/",
          "height": 297
        },
        "id": "f86N1cuf85PX",
        "outputId": "f9462ce3-3b73-4a79-992c-dad1be52be2f"
      },
      "execution_count": null,
      "outputs": [
        {
          "output_type": "display_data",
          "data": {
            "text/plain": [
              "<Figure size 1368x288 with 2 Axes>"
            ],
            "image/png": "[encoded data removed]"
          },
          "metadata": {
            "needs_background": "light"
          }
        }
      ]
    },
    {
      "cell_type": "markdown",
      "source": [
        "Vemos que não há muita diferença na forma de pagamento entre o total de clientes, porém, em relação aos clientes que cancelaram, a maioria pagou com cheque eletrônico.\n",
        "Esssa modalidade não é muito comum no Brasil, mas refere-se a basicamente o preenchimento de um formulário de pagamento online, onde se autoriza o beneficiário a retirar o valor especificado.\n"
      ],
      "metadata": {
        "id": "qkox5Dje92zg"
      }
    },
    {
      "cell_type": "markdown",
      "metadata": {
        "id": "3DXfEV2oyIGI"
      },
      "source": [
        "##**Preparação dos Dados**\n",
        "\n",
        "Nesta etapa de preparação dos dados, será realizado um pré-processamento básico, apenas com a finalidade de construir um modelo base. \n",
        "\n",
        "As features que continham 2 labels únicos, serão processadas usando-se o `LabelEncoder`. Vale lembrar que isso inclui a variável alvo `Churn`. Na sequência, serão separadas as variáveis numéricas das categóricas. As categóricas serão transformadas em variáveis dummy, para permitir a sua utilização em todos os modelos.\n",
        "\n",
        "* **O que o Label Encoder faz?** Para o Label Encoding, atribuímos a cada categoria um número (0, 1). Usaremos para transformar as variáveis binárias.\n",
        "* **O que são variáveis dummy?** Diferente do Label Encoding, onde cada categoria assume um valor numérico, aqui criamos uma espécie de matriz esparça, onde cada categoria ganha uma coluna, com valores 0 indicando ausência, e 1 presença."
      ]
    },
    {
      "cell_type": "code",
      "metadata": {
        "id": "GoyYiYQtyKuX",
        "colab": {
          "base_uri": "https://localhost:8080/",
          "height": 334
        },
        "outputId": "863d2a14-5d67-454c-aa83-ac1a0582f335"
      },
      "source": [
        "# pré processar as variáveis\n",
        "binary_var = df_clean.nunique()[df_clean.nunique() == 2].keys().tolist()\n",
        "num_var = [col for col in df_clean.select_dtypes(['int', 'float']).columns.tolist() if col not in binary_var]\n",
        "cat_var = [col for col in df_clean.columns.tolist() if col not in binary_var + num_var]\n",
        "\n",
        "# criar uma cópia do dataframe\n",
        "df_proc = df_clean.copy()\n",
        "\n",
        "# Label Encoding para as variáveis Binárias\n",
        "le = LabelEncoder()\n",
        "for i in binary_var:\n",
        "    df_proc[i] = le.fit_transform(df_proc[i])\n",
        "\n",
        "# Encoding para colunas categóricas com múltiplas classes\n",
        "df_proc = pd.get_dummies(df_proc, columns=cat_var)\n",
        "\n",
        "# ver as 5 primeiras entradas do novo dataframe\n",
        "df_proc.head()"
      ],
      "execution_count": null,
      "outputs": [
        {
          "output_type": "execute_result",
          "data": {
            "text/plain": [
              "   gender  SeniorCitizen  Partner  Dependents  tenure  PhoneService  \\\n",
              "0       0              0        1           0       1             0   \n",
              "1       1              0        0           0      34             1   \n",
              "2       1              0        0           0       2             1   \n",
              "3       1              0        0           0      45             0   \n",
              "4       0              0        0           0       2             1   \n",
              "\n",
              "   PaperlessBilling  MonthlyCharges  TotalCharges  Churn  ...  \\\n",
              "0                 1           29.85         29.85      0  ...   \n",
              "1                 0           56.95       1889.50      0  ...   \n",
              "2                 1           53.85        108.15      1  ...   \n",
              "3                 0           42.30       1840.75      0  ...   \n",
              "4                 1           70.70        151.65      1  ...   \n",
              "\n",
              "   StreamingMovies_No  StreamingMovies_No internet service  \\\n",
              "0                   1                                    0   \n",
              "1                   1                                    0   \n",
              "2                   1                                    0   \n",
              "3                   1                                    0   \n",
              "4                   1                                    0   \n",
              "\n",
              "   StreamingMovies_Yes  Contract_Month-to-month  Contract_One year  \\\n",
              "0                    0                        1                  0   \n",
              "1                    0                        0                  1   \n",
              "2                    0                        1                  0   \n",
              "3                    0                        0                  1   \n",
              "4                    0                        1                  0   \n",
              "\n",
              "   Contract_Two year  PaymentMethod_Bank transfer (automatic)  \\\n",
              "0                  0                                        0   \n",
              "1                  0                                        0   \n",
              "2                  0                                        0   \n",
              "3                  0                                        1   \n",
              "4                  0                                        0   \n",
              "\n",
              "   PaymentMethod_Credit card (automatic)  PaymentMethod_Electronic check  \\\n",
              "0                                      0                               1   \n",
              "1                                      0                               0   \n",
              "2                                      0                               0   \n",
              "3                                      0                               0   \n",
              "4                                      0                               1   \n",
              "\n",
              "   PaymentMethod_Mailed check  \n",
              "0                           0  \n",
              "1                           1  \n",
              "2                           1  \n",
              "3                           0  \n",
              "4                           0  \n",
              "\n",
              "[5 rows x 41 columns]"
            ],
            "text/html": [
              "\n",
              "  <div id=\"df-a47a1ee6-9fb5-43ce-bc87-1d171b5629d0\">\n",
              "    <div class=\"colab-df-container\">\n",
              "      <div>\n",
              "<style scoped>\n",
              "    .dataframe tbody tr th:only-of-type {\n",
              "        vertical-align: middle;\n",
              "    }\n",
              "\n",
              "    .dataframe tbody tr th {\n",
              "        vertical-align: top;\n",
              "    }\n",
              "\n",
              "    .dataframe thead th {\n",
              "        text-align: right;\n",
              "    }\n",
              "</style>\n",
              "<table border=\"1\" class=\"dataframe\">\n",
              "  <thead>\n",
              "    <tr style=\"text-align: right;\">\n",
              "      <th></th>\n",
              "      <th>gender</th>\n",
              "      <th>SeniorCitizen</th>\n",
              "      <th>Partner</th>\n",
              "      <th>Dependents</th>\n",
              "      <th>tenure</th>\n",
              "      <th>PhoneService</th>\n",
              "      <th>PaperlessBilling</th>\n",
              "      <th>MonthlyCharges</th>\n",
              "      <th>TotalCharges</th>\n",
              "      <th>Churn</th>\n",
              "      <th>...</th>\n",
              "      <th>StreamingMovies_No</th>\n",
              "      <th>StreamingMovies_No internet service</th>\n",
              "      <th>StreamingMovies_Yes</th>\n",
              "      <th>Contract_Month-to-month</th>\n",
              "      <th>Contract_One year</th>\n",
              "      <th>Contract_Two year</th>\n",
              "      <th>PaymentMethod_Bank transfer (automatic)</th>\n",
              "      <th>PaymentMethod_Credit card (automatic)</th>\n",
              "      <th>PaymentMethod_Electronic check</th>\n",
              "      <th>PaymentMethod_Mailed check</th>\n",
              "    </tr>\n",
              "  </thead>\n",
              "  <tbody>\n",
              "    <tr>\n",
              "      <th>0</th>\n",
              "      <td>0</td>\n",
              "      <td>0</td>\n",
              "      <td>1</td>\n",
              "      <td>0</td>\n",
              "      <td>1</td>\n",
              "      <td>0</td>\n",
              "      <td>1</td>\n",
              "      <td>29.85</td>\n",
              "      <td>29.85</td>\n",
              "      <td>0</td>\n",
              "      <td>...</td>\n",
              "      <td>1</td>\n",
              "      <td>0</td>\n",
              "      <td>0</td>\n",
              "      <td>1</td>\n",
              "      <td>0</td>\n",
              "      <td>0</td>\n",
              "      <td>0</td>\n",
              "      <td>0</td>\n",
              "      <td>1</td>\n",
              "      <td>0</td>\n",
              "    </tr>\n",
              "    <tr>\n",
              "      <th>1</th>\n",
              "      <td>1</td>\n",
              "      <td>0</td>\n",
              "      <td>0</td>\n",
              "      <td>0</td>\n",
              "      <td>34</td>\n",
              "      <td>1</td>\n",
              "      <td>0</td>\n",
              "      <td>56.95</td>\n",
              "      <td>1889.50</td>\n",
              "      <td>0</td>\n",
              "      <td>...</td>\n",
              "      <td>1</td>\n",
              "      <td>0</td>\n",
              "      <td>0</td>\n",
              "      <td>0</td>\n",
              "      <td>1</td>\n",
              "      <td>0</td>\n",
              "      <td>0</td>\n",
              "      <td>0</td>\n",
              "      <td>0</td>\n",
              "      <td>1</td>\n",
              "    </tr>\n",
              "    <tr>\n",
              "      <th>2</th>\n",
              "      <td>1</td>\n",
              "      <td>0</td>\n",
              "      <td>0</td>\n",
              "      <td>0</td>\n",
              "      <td>2</td>\n",
              "      <td>1</td>\n",
              "      <td>1</td>\n",
              "      <td>53.85</td>\n",
              "      <td>108.15</td>\n",
              "      <td>1</td>\n",
              "      <td>...</td>\n",
              "      <td>1</td>\n",
              "      <td>0</td>\n",
              "      <td>0</td>\n",
              "      <td>1</td>\n",
              "      <td>0</td>\n",
              "      <td>0</td>\n",
              "      <td>0</td>\n",
              "      <td>0</td>\n",
              "      <td>0</td>\n",
              "      <td>1</td>\n",
              "    </tr>\n",
              "    <tr>\n",
              "      <th>3</th>\n",
              "      <td>1</td>\n",
              "      <td>0</td>\n",
              "      <td>0</td>\n",
              "      <td>0</td>\n",
              "      <td>45</td>\n",
              "      <td>0</td>\n",
              "      <td>0</td>\n",
              "      <td>42.30</td>\n",
              "      <td>1840.75</td>\n",
              "      <td>0</td>\n",
              "      <td>...</td>\n",
              "      <td>1</td>\n",
              "      <td>0</td>\n",
              "      <td>0</td>\n",
              "      <td>0</td>\n",
              "      <td>1</td>\n",
              "      <td>0</td>\n",
              "      <td>1</td>\n",
              "      <td>0</td>\n",
              "      <td>0</td>\n",
              "      <td>0</td>\n",
              "    </tr>\n",
              "    <tr>\n",
              "      <th>4</th>\n",
              "      <td>0</td>\n",
              "      <td>0</td>\n",
              "      <td>0</td>\n",
              "      <td>0</td>\n",
              "      <td>2</td>\n",
              "      <td>1</td>\n",
              "      <td>1</td>\n",
              "      <td>70.70</td>\n",
              "      <td>151.65</td>\n",
              "      <td>1</td>\n",
              "      <td>...</td>\n",
              "      <td>1</td>\n",
              "      <td>0</td>\n",
              "      <td>0</td>\n",
              "      <td>1</td>\n",
              "      <td>0</td>\n",
              "      <td>0</td>\n",
              "      <td>0</td>\n",
              "      <td>0</td>\n",
              "      <td>1</td>\n",
              "      <td>0</td>\n",
              "    </tr>\n",
              "  </tbody>\n",
              "</table>\n",
              "<p>5 rows × 41 columns</p>\n",
              "</div>\n",
              "      <button class=\"colab-df-convert\" onclick=\"convertToInteractive('df-a47a1ee6-9fb5-43ce-bc87-1d171b5629d0')\"\n",
              "              title=\"Convert this dataframe to an interactive table.\"\n",
              "              style=\"display:none;\">\n",
              "        \n",
              "  <svg xmlns=\"http://www.w3.org/2000/svg\" height=\"24px\"viewBox=\"0 0 24 24\"\n",
              "       width=\"24px\">\n",
              "    <path d=\"M0 0h24v24H0V0z\" fill=\"none\"/>\n",
              "    <path d=\"M18.56 5.44l.94 2.06.94-2.06 2.06-.94-2.06-.94-.94-2.06-.94 2.06-2.06.94zm-11 1L8.5 8.5l.94-2.06 2.06-.94-2.06-.94L8.5 2.5l-.94 2.06-2.06.94zm10 10l.94 2.06.94-2.06 2.06-.94-2.06-.94-.94-2.06-.94 2.06-2.06.94z\"/><path d=\"M17.41 7.96l-1.37-1.37c-.4-.4-.92-.59-1.43-.59-.52 0-1.04.2-1.43.59L10.3 9.45l-7.72 7.72c-.78.78-.78 2.05 0 2.83L4 21.41c.39.39.9.59 1.41.59.51 0 1.02-.2 1.41-.59l7.78-7.78 2.81-2.81c.8-.78.8-2.07 0-2.86zM5.41 20L4 18.59l7.72-7.72 1.47 1.35L5.41 20z\"/>\n",
              "  </svg>\n",
              "      </button>\n",
              "      \n",
              "  <style>\n",
              "    .colab-df-container {\n",
              "      display:flex;\n",
              "      flex-wrap:wrap;\n",
              "      gap: 12px;\n",
              "    }\n",
              "\n",
              "    .colab-df-convert {\n",
              "      background-color: #E8F0FE;\n",
              "      border: none;\n",
              "      border-radius: 50%;\n",
              "      cursor: pointer;\n",
              "      display: none;\n",
              "      fill: #1967D2;\n",
              "      height: 32px;\n",
              "      padding: 0 0 0 0;\n",
              "      width: 32px;\n",
              "    }\n",
              "\n",
              "    .colab-df-convert:hover {\n",
              "      background-color: #E2EBFA;\n",
              "      box-shadow: 0px 1px 2px rgba(60, 64, 67, 0.3), 0px 1px 3px 1px rgba(60, 64, 67, 0.15);\n",
              "      fill: #174EA6;\n",
              "    }\n",
              "\n",
              "    [theme=dark] .colab-df-convert {\n",
              "      background-color: #3B4455;\n",
              "      fill: #D2E3FC;\n",
              "    }\n",
              "\n",
              "    [theme=dark] .colab-df-convert:hover {\n",
              "      background-color: #434B5C;\n",
              "      box-shadow: 0px 1px 3px 1px rgba(0, 0, 0, 0.15);\n",
              "      filter: drop-shadow(0px 1px 2px rgba(0, 0, 0, 0.3));\n",
              "      fill: #FFFFFF;\n",
              "    }\n",
              "  </style>\n",
              "\n",
              "      <script>\n",
              "        const buttonEl =\n",
              "          document.querySelector('#df-a47a1ee6-9fb5-43ce-bc87-1d171b5629d0 button.colab-df-convert');\n",
              "        buttonEl.style.display =\n",
              "          google.colab.kernel.accessAllowed ? 'block' : 'none';\n",
              "\n",
              "        async function convertToInteractive(key) {\n",
              "          const element = document.querySelector('#df-a47a1ee6-9fb5-43ce-bc87-1d171b5629d0');\n",
              "          const dataTable =\n",
              "            await google.colab.kernel.invokeFunction('convertToInteractive',\n",
              "                                                     [key], {});\n",
              "          if (!dataTable) return;\n",
              "\n",
              "          const docLinkHtml = 'Like what you see? Visit the ' +\n",
              "            '<a target=\"_blank\" href=https://colab.research.google.com/notebooks/data_table.ipynb>data table notebook</a>'\n",
              "            + ' to learn more about interactive tables.';\n",
              "          element.innerHTML = '';\n",
              "          dataTable['output_type'] = 'display_data';\n",
              "          await google.colab.output.renderOutput(dataTable, element);\n",
              "          const docLink = document.createElement('div');\n",
              "          docLink.innerHTML = docLinkHtml;\n",
              "          element.appendChild(docLink);\n",
              "        }\n",
              "      </script>\n",
              "    </div>\n",
              "  </div>\n",
              "  "
            ]
          },
          "metadata": {},
          "execution_count": 91
        }
      ]
    },
    {
      "cell_type": "code",
      "source": [
        "# quantidade de colunas\n",
        "print(f'Quantiade de colunas original: {df.shape[1]}')\n",
        "print(f'Quantiade de colunas após tratamento: {df_proc.shape[1]}')"
      ],
      "metadata": {
        "colab": {
          "base_uri": "https://localhost:8080/"
        },
        "id": "8gXP_Vaas_W0",
        "outputId": "14746b8c-ed19-41de-f2d1-5d76c71826ce"
      },
      "execution_count": null,
      "outputs": [
        {
          "output_type": "stream",
          "name": "stdout",
          "text": [
            "Quantiade de colunas original: 21\n",
            "Quantiade de colunas após tratamento: 41\n"
          ]
        }
      ]
    },
    {
      "cell_type": "markdown",
      "source": [
        "##**Divisão dos dados**\n",
        "\n",
        "Vamos separar os dados de treino e os dados de teste.\n",
        "\n",
        "*   **Dados de treino:** serve para treinar o modelo.\n",
        "*   **Dados de teste:** usado somente no final, depois de o modelo estar pronto e otimizado, para ver a real performance deste modelo."
      ],
      "metadata": {
        "id": "gMy3ifEquqha"
      }
    },
    {
      "cell_type": "code",
      "source": [
        "# criando o conjunto de teste\n",
        "df_test = df_proc.sample(frac=0.15, random_state=0)\n",
        "\n",
        "# drop das linhas de teste\n",
        "df_treino = df_proc.drop(df_test.index)\n",
        "\n",
        "# verificando o conjunto\n",
        "print(\"Dimensões do Conjunto de Teste: \", df_test.shape)\n",
        "print(\"Dimensões do Conjunto de Treino: \", df_treino.shape)"
      ],
      "metadata": {
        "colab": {
          "base_uri": "https://localhost:8080/"
        },
        "id": "r_q1IrQSwO38",
        "outputId": "454aec70-57c9-4b53-993d-1a04774af05a"
      },
      "execution_count": null,
      "outputs": [
        {
          "output_type": "stream",
          "name": "stdout",
          "text": [
            "Dimensões do Conjunto de Teste:  (1055, 41)\n",
            "Dimensões do Conjunto de Treino:  (5977, 41)\n"
          ]
        }
      ]
    },
    {
      "cell_type": "markdown",
      "source": [
        "Agora vamos dividir novamente os dados de treino:\n",
        "\n",
        "*   **Dados de treino:** como mencionamos anteriormente, é usado para treinar o modelo.\n",
        "*   **Dados de validação:** utilizado para avaliar o desempenho de cada modelo e hiperparâmetros."
      ],
      "metadata": {
        "id": "nYHsP5C9uv2B"
      }
    },
    {
      "cell_type": "code",
      "source": [
        "# separando as variáveis entre X e y\n",
        "X = df_treino.drop('Churn', axis=1)\n",
        "y = df_treino['Churn']\n",
        "\n",
        "# dividir o dataset entre treino e validação\n",
        "X_train, X_val, y_train, y_val = train_test_split(X, y, stratify=y, shuffle=True)"
      ],
      "metadata": {
        "id": "P4u1xwB-x12v"
      },
      "execution_count": null,
      "outputs": []
    },
    {
      "cell_type": "markdown",
      "source": [
        "##**Feature Scaling**\n",
        "\n",
        "Essa etapa tem o objetivo de redimencionar os dados, para que venham a ter a mesma ordem de grandeza, a mesma escala. Os dados permanecem os mesmos, a mudança é somente para uma escala em comum. É importante para evitar que o algoritmo fique enviesado para as variáveis com maior ordem de grandeza.\n",
        "\n",
        "Iremos Padronizar os **dados de treino** usando a classe **`StandardScaler`**. Posteriormente será necessário padronizarmos os **dados de validação** e **dados de teste** também."
      ],
      "metadata": {
        "id": "Yt1KXI0_yu-A"
      }
    },
    {
      "cell_type": "code",
      "source": [
        "#padronizando os dados de treino\n",
        "scaler = StandardScaler().fit(X_train)\n",
        "X_train = scaler.transform(X_train)"
      ],
      "metadata": {
        "id": "iM1cqzoF1P7a"
      },
      "execution_count": null,
      "outputs": []
    },
    {
      "cell_type": "markdown",
      "source": [
        "##**Balanceamento dos dados**\n",
        "\n",
        "É importante efetuar o balanceamento dos dados porque **o conjunto de dados de treino pode influenciar muitos algoritmos de aprendizado de máquina, levando alguns a ignorar completamente a classe minoritária**. Isso é um problema, pois normalmente é a classe minoritária que desejamos fazer as previsões, no caso, os clientes que cancelaram o serviço.\n",
        "\n",
        "Para resolver o problema de desequilíbrio de classe vamos reamostrar aleatoriamente o conjunto de dados de treino. Para isso vamos usar as técnicas Undersampling e Oversampling.\n",
        "\n",
        "* **Random Undersampling:** Exclui aleatoriamente exemplos na classe majoritária, e é mais utilizado quando há grande volume de dados, porém, pode resultar na perda de informações para o modelo.\n",
        "* **Oversampling (SMOTE):** Exemplos duplicados aleatoriamente na classe minoritária. Nenhuma informação é descartada, porém, pode resultar em perda de performance para a classe minoritária em alguns modelos.\n",
        "\n",
        "<p align=center>\n",
        "<img src=\"https://miro.medium.com/max/700/1*-aXoVoxBq5_wmUkkNQzPqQ.png\" width=\"100%\"></p> \n",
        "<p align=center><font size=\"2\">Fonte: by Mars - Analytics Vidhya</font></p>\n",
        "\n"
      ],
      "metadata": {
        "id": "1_jjEyX93X14"
      }
    },
    {
      "cell_type": "code",
      "source": [
        "# usar técnica undersampling\n",
        "rus = RandomUnderSampler()\n",
        "X_rus, y_rus = rus.fit_resample(X_train, y_train)\n",
        "\n",
        "# usar técnica SMOTE\n",
        "smt = SMOTE()\n",
        "X_ros, y_ros = smt.fit_resample(X_train, y_train)\n"
      ],
      "metadata": {
        "id": "4_1bvbRt4JC6"
      },
      "execution_count": null,
      "outputs": []
    },
    {
      "cell_type": "code",
      "source": [
        "# checando se os dados estão balanceados\n",
        "fig, ax = plt.subplots(figsize=(12,4),nrows=1, ncols=2)\n",
        "sns.countplot(x=y_rus, ax=ax[0]); #undersampling\n",
        "sns.countplot(x=y_ros, ax=ax[1]); #smote\n",
        "\n",
        "ax[0].set_title('Balanceamento dos dados', loc='left', pad=40, fontdict={'fontsize':20}, color='#3f3f4e');\n",
        "ax[0].set_frame_on(False)\n",
        "ax[1].set_frame_on(False)\n",
        "ax[0].set_xticklabels(['Não cancelou','Cancelou'])\n",
        "ax[1].set_xticklabels(['Não cancelou','Cancelou'])\n",
        "ax[0].tick_params(axis='x', length=0, labelsize=14, colors='dimgrey')\n",
        "ax[1].tick_params(axis='x', length=0, labelsize=14, colors='dimgrey')\n",
        "ax[0].set_xlabel('Undersampling', fontdict={'fontsize':20}, color='#3f3f4e')\n",
        "ax[1].set_xlabel('SMOTE', fontdict={'fontsize':20}, color='#3f3f4e')\n",
        "ax[0].get_yaxis().set_visible(False)\n",
        "ax[1].get_yaxis().set_visible(False)\n",
        "\n",
        "\n",
        "#incluindo os rótulos\n",
        "for retangulo in ax[0].patches:\n",
        "  ax[0].text(retangulo.get_x() + retangulo.get_width() / 2,\n",
        "          retangulo.get_height() + 50,\n",
        "          '{:,}'.format(int(retangulo.get_height())).replace(',','.'),\n",
        "          ha = 'center',\n",
        "          fontsize=18, color='grey')\n",
        "  \n",
        "for retangulo in ax[1].patches:\n",
        "  ax[1].text(retangulo.get_x() + retangulo.get_width() / 2,\n",
        "          retangulo.get_height() + 150,\n",
        "          '{:,}'.format(int(retangulo.get_height())).replace(',','.'),\n",
        "          ha = 'center',\n",
        "          fontsize=18, color='grey')\n",
        "\n",
        "#plotando o gráfico\n",
        "plt.tight_layout()"
      ],
      "metadata": {
        "colab": {
          "base_uri": "https://localhost:8080/",
          "height": 297
        },
        "id": "HQXwyCtK5dLX",
        "outputId": "28f00c22-4b1d-4b14-cf98-29351e3a4c4a"
      },
      "execution_count": null,
      "outputs": [
        {
          "output_type": "display_data",
          "data": {
            "text/plain": [
              "<Figure size 864x288 with 2 Axes>"
            ],
            "image/png": "[encoded data removed]"
          },
          "metadata": {
            "needs_background": "light"
          }
        }
      ]
    },
    {
      "cell_type": "markdown",
      "source": [
        "##**Cross-Validation**\n",
        "\n",
        "Também chamada de **validação cruzada**, é uma técnica para avaliar como a análise estatística se generaliza para um conjunto de dados independente. É uma técnica para avaliar modelos de aprendizado de máquina treinando vários modelos em subconjuntos dos dados de entrada disponíveis e avaliando-os no subconjunto complementar dos dados. Usando validação cruzada, há grandes chances de que possamos detectar o ajuste excessivo com facilidade.\n",
        "\n",
        "Utilizaremos o **Recall como métrica para avaliar o modelo**.\n",
        "\n",
        "\n",
        "*   **Recall**: Refere-se a todos os clientes que cancelaram o serviço, em relação a quantos o modelo conseguiu identificar, acertar. Representa a capacidade do modelo em prever se um cliente irá cancelar o serviço.\n",
        "\n",
        "\n"
      ],
      "metadata": {
        "id": "CY8Zg4IE9qeG"
      }
    },
    {
      "cell_type": "code",
      "source": [
        "#função cross-validation\n",
        "def val_model(X, y, clf, quite=False):\n",
        "    \"\"\"\n",
        "    Realiza cross-validation com os dados de treino para determinado modelo.\n",
        "\n",
        "    # Arguments\n",
        "        X: DataFrame, contém as variáveis independetes.\n",
        "        y: Series, vetor contendo a variável alvo.\n",
        "        clf: modelo classificador do Scikit-learn.\n",
        "        quite: bool, indicando se a função deve imprimir os resultados ou não.\n",
        "\n",
        "    # Returns\n",
        "        float, média dos scores da cross-validation.\n",
        "    \"\"\"\n",
        "    \n",
        "    X = np.array(X)\n",
        "    y = np.array(y)\n",
        "\n",
        "    pipeline = make_pipeline(StandardScaler(), clf)\n",
        "    scores = cross_val_score(pipeline, X, y, scoring='recall')\n",
        "\n",
        "    if quite == False:\n",
        "        print(\"Recall: {:.2f} (+/- {:.2f})\".format(scores.mean(), scores.std()))\n",
        "    \n",
        "    return scores.mean()"
      ],
      "metadata": {
        "id": "9afd_USjAnUL"
      },
      "execution_count": null,
      "outputs": []
    },
    {
      "cell_type": "code",
      "source": [
        "# criar baseline e ver desempenho\n",
        "rf = RandomForestClassifier()\n",
        "score_baseline = val_model(X_train, y_train, rf)"
      ],
      "metadata": {
        "colab": {
          "base_uri": "https://localhost:8080/"
        },
        "id": "XUr9mQGAA6um",
        "outputId": "6d2b1c8a-31f6-4453-9da1-42f8679e4778"
      },
      "execution_count": null,
      "outputs": [
        {
          "output_type": "stream",
          "name": "stdout",
          "text": [
            "Recall: 0.50 (+/- 0.02)\n"
          ]
        }
      ]
    },
    {
      "cell_type": "markdown",
      "source": [
        "O primeiro modelo utilizado na validação cruzada foi o **Random Forest**, que será o nosso *baseline*. Esse modelo é muito poderoso porque consiste em um grande número de árvores de decisão.\n",
        "O resultado obtido será utilizado como comparação com os próximos modelos a serem verificados.\n",
        "\n",
        "O **Recall** obtido no modelo **Random Forest** foi de **50%**, o que significa que o modelo consegue prever 50% dos potenciais clientes a cancelarem o serviço."
      ],
      "metadata": {
        "id": "rFGUCVuiClaY"
      }
    },
    {
      "cell_type": "markdown",
      "metadata": {
        "id": "2nHC4RsngDBb"
      },
      "source": [
        "## **Modelos de Machine Learning**\n",
        "\n",
        "Após a análise exploratória e os dados preparados, podemos instanciar os modelos de aprendizado supervisionado.\n",
        "\n",
        "Para verificar a validação cruzada dos modelos utilizaremos os dados balanceados UnderSampling e SMOTE, verificando qual o de melhor performance.\n",
        "\n",
        "Os modelos de classificação que iremos analisar, serão:\n",
        "\n",
        "* **Decision Tree**\n",
        "* **Random Forest**\n",
        "* **Stochastic Gradient Descent**\n",
        "* **SVC**\n",
        "* **Regressão Logística**\n",
        "* **XGBoost**\n",
        "* **LightGBM**\n",
        "\n",
        "Abaixo segue uma breve explicação sobre cada modelo:\n",
        "\n",
        "* **Decision Tree**:Uma árvore de decisão geralmente começa com um único nó, que se divide em possíveis resultados, ou seja, pode ser um questionamento se dividindo em sim ou não. Cada um desses resultados leva a nós adicionais, que se ramificam em outras possibilidades. Assim, cria-se uma forma de árvore, até chegar no resultado final.\n",
        "\n",
        "* **Random Forest**: Em português, Random Forest significa floresta aleatória. Este nome explica muito bem o funcionamento do algoritmo, que irá criar muitas árvores de decisão, de maneira aleatória, formando o que podemos enxergar como uma floresta, onde cada árvore será utilizada na escolha do resultado final.\n",
        "\n",
        "* **Stochastic Gradient Descent**: SGD ou Gradiente Descendente Estocástico é um algoritmo de otimização frequentemente usado em aplicativos de aprendizado de máquina para encontrar os parâmetros do modelo que correspondem ao melhor ajuste entre as saídas previstas e reais . É uma técnica inexata, mas poderosa. A descida de gradiente estocástica é amplamente utilizada em aplicações de aprendizado de máquina.\n",
        "\n",
        "* **SVC**: Support Vector Machine. Nesse algoritmo, plota-se cada item de dados como um ponto no espaço n-dimensional (onde n é o número de recursos que você tem), com o valor de cada recurso sendo o valor de uma determinada coordenada. Então, executa-se a classificação encontrando o hiperplano que melhor diferencia as duas classes.\n",
        "\n",
        "* **Regressão Logística**: Este tipo de algoritmo de machine learning analisa diferentes aspectos ou variáveis de um objeto para depois determinar uma classe na qual ele se encaixa melhor.\n",
        "\n",
        "* **XGBoost**: O nome XGBoost vem de e**X**treme **G**radient **Boos**ting. O potencial do XGBoost é devido à técnica de Gradient Boosting, capaz de combinar resultados de diversos classificadores \"fracos\" (tipicamente árvores de decisão) que são combinados mediante um comitê forte de decisão.\n",
        "\n",
        "* **LightGBM**: LightGBM, abreviação de Light Gradient Boosting Machine. LightGBM é considerado um algoritmo muito rápido e o algoritmo mais utilizado em aprendizado de máquina quando se trata de obter resultados rápidos e de alta precisão."
      ]
    },
    {
      "cell_type": "markdown",
      "metadata": {
        "id": "6Xvx5Fsgbvq9"
      },
      "source": [
        "##**Cross-Validation com dados balanceados por Undersampling**\n",
        "\n",
        "Agora vamos aplicar a validação cruzada nos modelos balanceados com a técnica undersampling e verificar quais tiveram o melhor desempenho. Lembrando que para isso utilizamos apenas os dados de treino."
      ]
    },
    {
      "cell_type": "code",
      "source": [
        "# instanciando os modelos\n",
        "dt = DecisionTreeClassifier()\n",
        "rf = RandomForestClassifier()\n",
        "sgdc = SGDClassifier()\n",
        "svc = SVC()\n",
        "lr = LogisticRegression()\n",
        "xgb = XGBClassifier()\n",
        "lgbm = LGBMClassifier()"
      ],
      "metadata": {
        "id": "3lOSKAsTHqjO"
      },
      "execution_count": null,
      "outputs": []
    },
    {
      "cell_type": "code",
      "metadata": {
        "id": "hPxSpzXR1u7I",
        "colab": {
          "base_uri": "https://localhost:8080/",
          "height": 269
        },
        "outputId": "c5d3a20f-dcd2-4a07-e7da-223d356170e1"
      },
      "source": [
        "# undersampling - aplicando validação cruzada nos modelos\n",
        "model = []\n",
        "recall = []\n",
        "\n",
        "# avaliar o desempenho (recall)\n",
        "for clf in (dt, rf, sgdc, svc, lr, xgb, lgbm):\n",
        "    model.append(clf.__class__.__name__)\n",
        "    recall.append(val_model(X_rus, y_rus, clf, quite=True))\n",
        "\n",
        "pd.DataFrame(data=recall, index=model, columns=['Recall'])"
      ],
      "execution_count": null,
      "outputs": [
        {
          "output_type": "execute_result",
          "data": {
            "text/plain": [
              "                          Recall\n",
              "DecisionTreeClassifier  0.664706\n",
              "RandomForestClassifier  0.753782\n",
              "SGDClassifier           0.775630\n",
              "SVC                     0.790756\n",
              "LogisticRegression      0.797479\n",
              "XGBClassifier           0.784034\n",
              "LGBMClassifier          0.771429"
            ],
            "text/html": [
              "\n",
              "  <div id=\"df-383caad3-5ae7-4bb1-aca2-67a6e3b2115e\">\n",
              "    <div class=\"colab-df-container\">\n",
              "      <div>\n",
              "<style scoped>\n",
              "    .dataframe tbody tr th:only-of-type {\n",
              "        vertical-align: middle;\n",
              "    }\n",
              "\n",
              "    .dataframe tbody tr th {\n",
              "        vertical-align: top;\n",
              "    }\n",
              "\n",
              "    .dataframe thead th {\n",
              "        text-align: right;\n",
              "    }\n",
              "</style>\n",
              "<table border=\"1\" class=\"dataframe\">\n",
              "  <thead>\n",
              "    <tr style=\"text-align: right;\">\n",
              "      <th></th>\n",
              "      <th>Recall</th>\n",
              "    </tr>\n",
              "  </thead>\n",
              "  <tbody>\n",
              "    <tr>\n",
              "      <th>DecisionTreeClassifier</th>\n",
              "      <td>0.664706</td>\n",
              "    </tr>\n",
              "    <tr>\n",
              "      <th>RandomForestClassifier</th>\n",
              "      <td>0.753782</td>\n",
              "    </tr>\n",
              "    <tr>\n",
              "      <th>SGDClassifier</th>\n",
              "      <td>0.775630</td>\n",
              "    </tr>\n",
              "    <tr>\n",
              "      <th>SVC</th>\n",
              "      <td>0.790756</td>\n",
              "    </tr>\n",
              "    <tr>\n",
              "      <th>LogisticRegression</th>\n",
              "      <td>0.797479</td>\n",
              "    </tr>\n",
              "    <tr>\n",
              "      <th>XGBClassifier</th>\n",
              "      <td>0.784034</td>\n",
              "    </tr>\n",
              "    <tr>\n",
              "      <th>LGBMClassifier</th>\n",
              "      <td>0.771429</td>\n",
              "    </tr>\n",
              "  </tbody>\n",
              "</table>\n",
              "</div>\n",
              "      <button class=\"colab-df-convert\" onclick=\"convertToInteractive('df-383caad3-5ae7-4bb1-aca2-67a6e3b2115e')\"\n",
              "              title=\"Convert this dataframe to an interactive table.\"\n",
              "              style=\"display:none;\">\n",
              "        \n",
              "  <svg xmlns=\"http://www.w3.org/2000/svg\" height=\"24px\"viewBox=\"0 0 24 24\"\n",
              "       width=\"24px\">\n",
              "    <path d=\"M0 0h24v24H0V0z\" fill=\"none\"/>\n",
              "    <path d=\"M18.56 5.44l.94 2.06.94-2.06 2.06-.94-2.06-.94-.94-2.06-.94 2.06-2.06.94zm-11 1L8.5 8.5l.94-2.06 2.06-.94-2.06-.94L8.5 2.5l-.94 2.06-2.06.94zm10 10l.94 2.06.94-2.06 2.06-.94-2.06-.94-.94-2.06-.94 2.06-2.06.94z\"/><path d=\"M17.41 7.96l-1.37-1.37c-.4-.4-.92-.59-1.43-.59-.52 0-1.04.2-1.43.59L10.3 9.45l-7.72 7.72c-.78.78-.78 2.05 0 2.83L4 21.41c.39.39.9.59 1.41.59.51 0 1.02-.2 1.41-.59l7.78-7.78 2.81-2.81c.8-.78.8-2.07 0-2.86zM5.41 20L4 18.59l7.72-7.72 1.47 1.35L5.41 20z\"/>\n",
              "  </svg>\n",
              "      </button>\n",
              "      \n",
              "  <style>\n",
              "    .colab-df-container {\n",
              "      display:flex;\n",
              "      flex-wrap:wrap;\n",
              "      gap: 12px;\n",
              "    }\n",
              "\n",
              "    .colab-df-convert {\n",
              "      background-color: #E8F0FE;\n",
              "      border: none;\n",
              "      border-radius: 50%;\n",
              "      cursor: pointer;\n",
              "      display: none;\n",
              "      fill: #1967D2;\n",
              "      height: 32px;\n",
              "      padding: 0 0 0 0;\n",
              "      width: 32px;\n",
              "    }\n",
              "\n",
              "    .colab-df-convert:hover {\n",
              "      background-color: #E2EBFA;\n",
              "      box-shadow: 0px 1px 2px rgba(60, 64, 67, 0.3), 0px 1px 3px 1px rgba(60, 64, 67, 0.15);\n",
              "      fill: #174EA6;\n",
              "    }\n",
              "\n",
              "    [theme=dark] .colab-df-convert {\n",
              "      background-color: #3B4455;\n",
              "      fill: #D2E3FC;\n",
              "    }\n",
              "\n",
              "    [theme=dark] .colab-df-convert:hover {\n",
              "      background-color: #434B5C;\n",
              "      box-shadow: 0px 1px 3px 1px rgba(0, 0, 0, 0.15);\n",
              "      filter: drop-shadow(0px 1px 2px rgba(0, 0, 0, 0.3));\n",
              "      fill: #FFFFFF;\n",
              "    }\n",
              "  </style>\n",
              "\n",
              "      <script>\n",
              "        const buttonEl =\n",
              "          document.querySelector('#df-383caad3-5ae7-4bb1-aca2-67a6e3b2115e button.colab-df-convert');\n",
              "        buttonEl.style.display =\n",
              "          google.colab.kernel.accessAllowed ? 'block' : 'none';\n",
              "\n",
              "        async function convertToInteractive(key) {\n",
              "          const element = document.querySelector('#df-383caad3-5ae7-4bb1-aca2-67a6e3b2115e');\n",
              "          const dataTable =\n",
              "            await google.colab.kernel.invokeFunction('convertToInteractive',\n",
              "                                                     [key], {});\n",
              "          if (!dataTable) return;\n",
              "\n",
              "          const docLinkHtml = 'Like what you see? Visit the ' +\n",
              "            '<a target=\"_blank\" href=https://colab.research.google.com/notebooks/data_table.ipynb>data table notebook</a>'\n",
              "            + ' to learn more about interactive tables.';\n",
              "          element.innerHTML = '';\n",
              "          dataTable['output_type'] = 'display_data';\n",
              "          await google.colab.output.renderOutput(dataTable, element);\n",
              "          const docLink = document.createElement('div');\n",
              "          docLink.innerHTML = docLinkHtml;\n",
              "          element.appendChild(docLink);\n",
              "        }\n",
              "      </script>\n",
              "    </div>\n",
              "  </div>\n",
              "  "
            ]
          },
          "metadata": {},
          "execution_count": 100
        }
      ]
    },
    {
      "cell_type": "markdown",
      "source": [
        "Os que tiveram o melhor \"Recall\" foram os modelos de Regressão logística (79,7%), SVC (79,0%) e o XGBoss (78,4%)."
      ],
      "metadata": {
        "id": "SRxzPAo9IIRA"
      }
    },
    {
      "cell_type": "markdown",
      "source": [
        "##**Cross-Validation com dados balanceados por SMOTE**\n",
        "\n",
        "Agora vamos aplicar a validação cruzada nos modelos balanceados com a técnica SMOTE e verificar quais tiveram o melhor desempenho."
      ],
      "metadata": {
        "id": "y6s4m9iGHXqI"
      }
    },
    {
      "cell_type": "code",
      "source": [
        "# SMOTE - aplicando validação cruzada nos modelos\n",
        "model = []\n",
        "recall = []\n",
        "\n",
        "# avaliar o desempenho (recall)\n",
        "for clf in (dt, rf, sgdc, svc, lr, xgb, lgbm):\n",
        "    model.append(clf.__class__.__name__)\n",
        "    recall.append(val_model(X_ros, y_ros, clf, quite=True))\n",
        "\n",
        "pd.DataFrame(data=recall, index=model, columns=['Recall'])"
      ],
      "metadata": {
        "colab": {
          "base_uri": "https://localhost:8080/",
          "height": 269
        },
        "id": "G8J8zquBHd44",
        "outputId": "d67484aa-1cc2-40be-d6b5-12875e0ef798"
      },
      "execution_count": null,
      "outputs": [
        {
          "output_type": "execute_result",
          "data": {
            "text/plain": [
              "                          Recall\n",
              "DecisionTreeClassifier  0.790179\n",
              "RandomForestClassifier  0.858849\n",
              "SGDClassifier           0.776730\n",
              "SVC                     0.839349\n",
              "LogisticRegression      0.808337\n",
              "XGBClassifier           0.851565\n",
              "LGBMClassifier          0.840652"
            ],
            "text/html": [
              "\n",
              "  <div id=\"df-316defb6-dc7f-4ecd-88ec-e5a438ca4cfe\">\n",
              "    <div class=\"colab-df-container\">\n",
              "      <div>\n",
              "<style scoped>\n",
              "    .dataframe tbody tr th:only-of-type {\n",
              "        vertical-align: middle;\n",
              "    }\n",
              "\n",
              "    .dataframe tbody tr th {\n",
              "        vertical-align: top;\n",
              "    }\n",
              "\n",
              "    .dataframe thead th {\n",
              "        text-align: right;\n",
              "    }\n",
              "</style>\n",
              "<table border=\"1\" class=\"dataframe\">\n",
              "  <thead>\n",
              "    <tr style=\"text-align: right;\">\n",
              "      <th></th>\n",
              "      <th>Recall</th>\n",
              "    </tr>\n",
              "  </thead>\n",
              "  <tbody>\n",
              "    <tr>\n",
              "      <th>DecisionTreeClassifier</th>\n",
              "      <td>0.790179</td>\n",
              "    </tr>\n",
              "    <tr>\n",
              "      <th>RandomForestClassifier</th>\n",
              "      <td>0.858849</td>\n",
              "    </tr>\n",
              "    <tr>\n",
              "      <th>SGDClassifier</th>\n",
              "      <td>0.776730</td>\n",
              "    </tr>\n",
              "    <tr>\n",
              "      <th>SVC</th>\n",
              "      <td>0.839349</td>\n",
              "    </tr>\n",
              "    <tr>\n",
              "      <th>LogisticRegression</th>\n",
              "      <td>0.808337</td>\n",
              "    </tr>\n",
              "    <tr>\n",
              "      <th>XGBClassifier</th>\n",
              "      <td>0.851565</td>\n",
              "    </tr>\n",
              "    <tr>\n",
              "      <th>LGBMClassifier</th>\n",
              "      <td>0.840652</td>\n",
              "    </tr>\n",
              "  </tbody>\n",
              "</table>\n",
              "</div>\n",
              "      <button class=\"colab-df-convert\" onclick=\"convertToInteractive('df-316defb6-dc7f-4ecd-88ec-e5a438ca4cfe')\"\n",
              "              title=\"Convert this dataframe to an interactive table.\"\n",
              "              style=\"display:none;\">\n",
              "        \n",
              "  <svg xmlns=\"http://www.w3.org/2000/svg\" height=\"24px\"viewBox=\"0 0 24 24\"\n",
              "       width=\"24px\">\n",
              "    <path d=\"M0 0h24v24H0V0z\" fill=\"none\"/>\n",
              "    <path d=\"M18.56 5.44l.94 2.06.94-2.06 2.06-.94-2.06-.94-.94-2.06-.94 2.06-2.06.94zm-11 1L8.5 8.5l.94-2.06 2.06-.94-2.06-.94L8.5 2.5l-.94 2.06-2.06.94zm10 10l.94 2.06.94-2.06 2.06-.94-2.06-.94-.94-2.06-.94 2.06-2.06.94z\"/><path d=\"M17.41 7.96l-1.37-1.37c-.4-.4-.92-.59-1.43-.59-.52 0-1.04.2-1.43.59L10.3 9.45l-7.72 7.72c-.78.78-.78 2.05 0 2.83L4 21.41c.39.39.9.59 1.41.59.51 0 1.02-.2 1.41-.59l7.78-7.78 2.81-2.81c.8-.78.8-2.07 0-2.86zM5.41 20L4 18.59l7.72-7.72 1.47 1.35L5.41 20z\"/>\n",
              "  </svg>\n",
              "      </button>\n",
              "      \n",
              "  <style>\n",
              "    .colab-df-container {\n",
              "      display:flex;\n",
              "      flex-wrap:wrap;\n",
              "      gap: 12px;\n",
              "    }\n",
              "\n",
              "    .colab-df-convert {\n",
              "      background-color: #E8F0FE;\n",
              "      border: none;\n",
              "      border-radius: 50%;\n",
              "      cursor: pointer;\n",
              "      display: none;\n",
              "      fill: #1967D2;\n",
              "      height: 32px;\n",
              "      padding: 0 0 0 0;\n",
              "      width: 32px;\n",
              "    }\n",
              "\n",
              "    .colab-df-convert:hover {\n",
              "      background-color: #E2EBFA;\n",
              "      box-shadow: 0px 1px 2px rgba(60, 64, 67, 0.3), 0px 1px 3px 1px rgba(60, 64, 67, 0.15);\n",
              "      fill: #174EA6;\n",
              "    }\n",
              "\n",
              "    [theme=dark] .colab-df-convert {\n",
              "      background-color: #3B4455;\n",
              "      fill: #D2E3FC;\n",
              "    }\n",
              "\n",
              "    [theme=dark] .colab-df-convert:hover {\n",
              "      background-color: #434B5C;\n",
              "      box-shadow: 0px 1px 3px 1px rgba(0, 0, 0, 0.15);\n",
              "      filter: drop-shadow(0px 1px 2px rgba(0, 0, 0, 0.3));\n",
              "      fill: #FFFFFF;\n",
              "    }\n",
              "  </style>\n",
              "\n",
              "      <script>\n",
              "        const buttonEl =\n",
              "          document.querySelector('#df-316defb6-dc7f-4ecd-88ec-e5a438ca4cfe button.colab-df-convert');\n",
              "        buttonEl.style.display =\n",
              "          google.colab.kernel.accessAllowed ? 'block' : 'none';\n",
              "\n",
              "        async function convertToInteractive(key) {\n",
              "          const element = document.querySelector('#df-316defb6-dc7f-4ecd-88ec-e5a438ca4cfe');\n",
              "          const dataTable =\n",
              "            await google.colab.kernel.invokeFunction('convertToInteractive',\n",
              "                                                     [key], {});\n",
              "          if (!dataTable) return;\n",
              "\n",
              "          const docLinkHtml = 'Like what you see? Visit the ' +\n",
              "            '<a target=\"_blank\" href=https://colab.research.google.com/notebooks/data_table.ipynb>data table notebook</a>'\n",
              "            + ' to learn more about interactive tables.';\n",
              "          element.innerHTML = '';\n",
              "          dataTable['output_type'] = 'display_data';\n",
              "          await google.colab.output.renderOutput(dataTable, element);\n",
              "          const docLink = document.createElement('div');\n",
              "          docLink.innerHTML = docLinkHtml;\n",
              "          element.appendChild(docLink);\n",
              "        }\n",
              "      </script>\n",
              "    </div>\n",
              "  </div>\n",
              "  "
            ]
          },
          "metadata": {},
          "execution_count": 101
        }
      ]
    },
    {
      "cell_type": "markdown",
      "source": [
        "Já com a técnica de balanceamento SMOTE, o que teve um melhor \"Recall\" foi o modelo RandomForest (85,8%), seguido do XGBoss (85,1%).\n",
        "\n",
        "Como o modelo XGBoss posui diversos hiperparâmetros, e por ter um desempenho similar ao primeiro colocado, vamos optar por escolher este modelo e melhorá-lo ainda mais.\n",
        "\n",
        "Como a técnica de SMOTE pode diminuir a capacidade de previsão da classe minoritária vamos testar o **XGBoss** também com o Undersampling, ao introduzirmos os hiperparâmetros.\n"
      ],
      "metadata": {
        "id": "wwcC9FOQIbGQ"
      }
    },
    {
      "cell_type": "markdown",
      "metadata": {
        "id": "Fy_HKjoAdHHi"
      },
      "source": [
        "## **Otimização dos Hiperparâmetros**\n",
        "\n",
        "XGBoost possui inúmeros parâmetros. Alguns afetam mais a qualidade do modelo, outros menos. Uma boa prática é definir uma taxa de aprendizado e número de estimadores, realizar tuning de outros parâmetros e, no final, checar outras taxas de aprendizado.\n",
        "\n",
        "Iremos ajustar o número de estimadores. O modelo foi instanciado com a `learning_rate=0.1`.\n",
        "\n",
        "Mas antes de partirmos para os testes, vamos verificar o que significa cada um dos parâmetros que vamos verificar.\n",
        "\n",
        "*   **learning_rate**: Refere-se a uma taxa de aprendizado estática. Para dimensionar as das atualizações de parâmetros do gradiente.\n",
        "*   **max_depth:** A profundidade máxima da árvore. A quantidade máxima de \"nós\" que podem haver da raiz até uma folha. Quanto maior, mais complexo será o modelo, portanto deve haver um equilíbrio para evitar tanto um overfitting (complexo demais) quanto underfitting (simples demais).\n",
        "*   **n_estimators**: Refere-se ao número de árvores a serem geradas.\n",
        "*   **min_child_weight**: O peso mínimo, ou quantidade mínima de amostras se todas tiverem peso 1, necessário para cada árvore criar um novo \"nó\". Um valor pequeno vai permitir o algoritmo criar Nodes que correspondem a uma quantidade menor de amostras, fazendo assim o modelo ficar mais complexo.\n",
        "*   **gamma**: Redução de perda mínima necessária para fazer uma partição adicional em um \"nó\" da árvore. Quanto maior for a gamma, mais conservador será o algoritmo.\n",
        "\n",
        "***Como vamos otimizar os hiperparâmetros?*** Faremos isso utilizando a técnica **Grid Search**, que nos ajuda a encontrar os melhores parâmetros para o nosso modelo. Basicamente, ele testa diferentes combinações de parâmetros, retendo os melhores resultados para cada um deles, retornando a melhor combinação possível de parâmetros para aquele conjunto de dados específico.\n",
        "Essa é uma forma muito direta e eficiente de melhorar os resultados dos nossos modelos.\n",
        "\n",
        "\n",
        "\n"
      ]
    },
    {
      "cell_type": "markdown",
      "source": [
        "##**Testando XGBoost com Undersampling**"
      ],
      "metadata": {
        "id": "eVzIlttoxnWW"
      }
    },
    {
      "cell_type": "code",
      "metadata": {
        "id": "LQw3kNLVjUNV",
        "colab": {
          "base_uri": "https://localhost:8080/"
        },
        "outputId": "db06d09b-7fbd-4028-e6b5-5ab605c020fc"
      },
      "source": [
        "xgb_rus = XGBClassifier(learning_rate=0.1)\n",
        "\n",
        "param_grid = {\n",
        " 'n_estimators':range(20, 50, 100),\n",
        "}\n",
        "\n",
        "# identificar melhor parâmetro\n",
        "kfold = StratifiedKFold(n_splits=10, shuffle=True)\n",
        "grid_search = GridSearchCV(xgb_rus, param_grid, scoring=\"recall\", n_jobs=-1, cv=kfold)\n",
        "grid_result = grid_search.fit(X_rus, y_rus)\n",
        "\n",
        "# ver resultados\n",
        "print(\"Melhor: {} para {}\".format(grid_result.best_score_, grid_result.best_params_))"
      ],
      "execution_count": null,
      "outputs": [
        {
          "output_type": "stream",
          "name": "stdout",
          "text": [
            "Melhor: 0.807563025210084 para {'n_estimators': 20}\n"
          ]
        }
      ]
    },
    {
      "cell_type": "markdown",
      "metadata": {
        "id": "SV5128AZwAtu"
      },
      "source": [
        "Com o número de estimadores igual a 20, realizaremos a busca pelos parâmetros `max_depth` e `min_child_weight`."
      ]
    },
    {
      "cell_type": "code",
      "metadata": {
        "id": "F_4EDsdBg8p7",
        "colab": {
          "base_uri": "https://localhost:8080/"
        },
        "outputId": "d608ec28-2397-41fb-8367-a71c5f2730f9"
      },
      "source": [
        "xgb_rus = XGBClassifier(learning_rate=0.1, n_estimators=20)\n",
        "\n",
        "param_grid = {\n",
        " 'max_depth':range(1, 2, 3),\n",
        " 'min_child_weight':range(1, 3, 5)\n",
        "}\n",
        "\n",
        "# identificar melhor parâmetro\n",
        "kfold = StratifiedKFold(n_splits=10, shuffle=True)\n",
        "grid_search = GridSearchCV(xgb_rus, param_grid, scoring=\"recall\", n_jobs=-1, cv=kfold)\n",
        "grid_result = grid_search.fit(X_rus, y_rus)\n",
        "\n",
        "# ver resultados\n",
        "print(\"Melhor: {} para {}\".format(grid_result.best_score_, grid_result.best_params_))"
      ],
      "execution_count": null,
      "outputs": [
        {
          "output_type": "stream",
          "name": "stdout",
          "text": [
            "Melhor: 0.8478991596638655 para {'max_depth': 1, 'min_child_weight': 1}\n"
          ]
        }
      ]
    },
    {
      "cell_type": "markdown",
      "metadata": {
        "id": "Sn_gKACfwLBa"
      },
      "source": [
        "Obtidos os valores de `max_depth=1` e `min_child_weight=1`, irei otimizar o parâmetro `gamma`."
      ]
    },
    {
      "cell_type": "code",
      "metadata": {
        "id": "x3mzVW_pjEQw",
        "colab": {
          "base_uri": "https://localhost:8080/"
        },
        "outputId": "4c765c51-b0f6-4536-fc4a-2cd8ed924158"
      },
      "source": [
        "xgb_rus = XGBClassifier(learning_rate=0.1, n_estimators=20, max_depth=1, min_child_weight=1)\n",
        "\n",
        "param_grid = {\n",
        " 'gamma':[i/10.0 for i in range(0,5)]\n",
        "}\n",
        "\n",
        "# identificar melhor parâmetro\n",
        "kfold = StratifiedKFold(n_splits=10, shuffle=True)\n",
        "grid_search = GridSearchCV(xgb_rus, param_grid, scoring=\"recall\", n_jobs=-1, cv=kfold)\n",
        "grid_result = grid_search.fit(X_rus, y_rus)\n",
        "\n",
        "# ver resultados\n",
        "print(\"Melhor: {} para {}\".format(grid_result.best_score_, grid_result.best_params_))"
      ],
      "execution_count": null,
      "outputs": [
        {
          "output_type": "stream",
          "name": "stdout",
          "text": [
            "Melhor: 0.8394957983193276 para {'gamma': 0.0}\n"
          ]
        }
      ]
    },
    {
      "cell_type": "markdown",
      "metadata": {
        "id": "gAjrnu1rwVRy"
      },
      "source": [
        "Por fim, obtido `gamma=0`, vou testar quatro valores para a `learning_rate` e ver qual oferece o melhor resultado."
      ]
    },
    {
      "cell_type": "code",
      "metadata": {
        "id": "KssnT-wYoxXO",
        "colab": {
          "base_uri": "https://localhost:8080/"
        },
        "outputId": "aaecec46-274e-40ba-c105-ade9da666643"
      },
      "source": [
        "xgb_rus = XGBClassifier(n_estimators=20, max_depth=1, min_child_weight=1, gamma=0.0)\n",
        "\n",
        "param_grid = {\n",
        " 'learning_rate':[0.001, 0.01, 0.1, 1]\n",
        "}\n",
        "\n",
        "# identificar melhor parâmetro\n",
        "kfold = StratifiedKFold(n_splits=10, shuffle=True)\n",
        "grid_search = GridSearchCV(xgb_rus, param_grid, scoring=\"recall\", n_jobs=-1, cv=kfold)\n",
        "grid_result = grid_search.fit(X_rus, y_rus)\n",
        "\n",
        "# ver resultados\n",
        "print(\"Melhor: {} para {}\".format(grid_result.best_score_, grid_result.best_params_))"
      ],
      "execution_count": null,
      "outputs": [
        {
          "output_type": "stream",
          "name": "stdout",
          "text": [
            "Melhor: 0.8865546218487396 para {'learning_rate': 0.001}\n"
          ]
        }
      ]
    },
    {
      "cell_type": "markdown",
      "metadata": {
        "id": "oS2jW6nbwfVg"
      },
      "source": [
        "Fato é que uma taxa de aprendizado menor, conseguiu melhorar o desempenho do modelo XGBoost, considerando `recall` como sendo a principal métrica.\n",
        "\n",
        "Agora vamos verificar com os dads de validação para termos uma ideia do desempenho final.\n",
        "\n",
        "##**Validação do modelo com os hiperparâmetros (Undersampling)**"
      ]
    },
    {
      "cell_type": "code",
      "metadata": {
        "id": "Zt0_dbd68VxU",
        "colab": {
          "base_uri": "https://localhost:8080/",
          "height": 535
        },
        "outputId": "22125809-903d-48b0-a5b5-cf2d5762f79a"
      },
      "source": [
        "# modelo validação\n",
        "xgb_rus = XGBClassifier(learning_rate=0.001 , n_estimators=20, max_depth=1, min_child_weight=1, gamma=0.0)\n",
        "xgb_rus.fit(X_rus, y_rus)\n",
        "\n",
        "# fazer a previsão\n",
        "X_val_rus = scaler.transform(X_val)\n",
        "y_pred_rus = xgb_rus.predict(X_val_rus)\n",
        "\n",
        "# Classification Report\n",
        "print(classification_report(y_val, y_pred_rus))\n",
        "\n",
        "# imprimir a área sob a curva\n",
        "print(\"AUC: {:.4f}\\n\".format(roc_auc_score(y_val, y_pred_rus)))\n",
        "\n",
        "# plotar matriz de confusão\n",
        "plot_confusion_matrix(y_val, y_pred_rus, normalize=True)\n",
        "plt.show()"
      ],
      "execution_count": null,
      "outputs": [
        {
          "output_type": "stream",
          "name": "stderr",
          "text": [
            "/usr/local/lib/python3.7/dist-packages/sklearn/base.py:451: UserWarning: X does not have valid feature names, but StandardScaler was fitted with feature names\n",
            "  \"X does not have valid feature names, but\"\n"
          ]
        },
        {
          "output_type": "stream",
          "name": "stdout",
          "text": [
            "              precision    recall  f1-score   support\n",
            "\n",
            "           0       0.93      0.58      0.71      1098\n",
            "           1       0.43      0.89      0.58       397\n",
            "\n",
            "    accuracy                           0.66      1495\n",
            "   macro avg       0.68      0.73      0.65      1495\n",
            "weighted avg       0.80      0.66      0.68      1495\n",
            "\n",
            "AUC: 0.7325\n",
            "\n"
          ]
        },
        {
          "output_type": "display_data",
          "data": {
            "text/plain": [
              "<Figure size 432x288 with 2 Axes>"
            ],
            "image/png": "[encoded data removed]"
          },
          "metadata": {
            "needs_background": "light"
          }
        }
      ]
    },
    {
      "cell_type": "markdown",
      "source": [
        "Com os dados de validação, e balanceamento Undersampling, tivemos um desempenho maior do Recall. Na validação cruzada, tivemos 78% e agora 89%. \n",
        "\n",
        "Agora vamos fazer o mesmo, porém, com os dados balanceados com a técnica SMOTE."
      ],
      "metadata": {
        "id": "-Y8vFeM85VsA"
      }
    },
    {
      "cell_type": "markdown",
      "source": [
        "##**Testando XGBoost com SMOTE**"
      ],
      "metadata": {
        "id": "pEDTKPXv6OFJ"
      }
    },
    {
      "cell_type": "code",
      "source": [
        "xgb_ros = XGBClassifier(learning_rate=0.1)\n",
        "\n",
        "param_grid = {\n",
        " 'n_estimators':range(20, 40, 50),\n",
        "}\n",
        "\n",
        "# identificar melhor parâmetro\n",
        "kfold = StratifiedKFold(n_splits=10, shuffle=True)\n",
        "grid_search = GridSearchCV(xgb_ros, param_grid, scoring=\"recall\", n_jobs=-1, cv=kfold)\n",
        "grid_result = grid_search.fit(X_ros, y_ros)\n",
        "\n",
        "# ver resultados\n",
        "print(\"Melhor: {} para {}\".format(grid_result.best_score_, grid_result.best_params_))"
      ],
      "metadata": {
        "colab": {
          "base_uri": "https://localhost:8080/"
        },
        "id": "L1c01j1G6TyU",
        "outputId": "799385b1-4598-43e9-8a87-8a0e89f457b1"
      },
      "execution_count": null,
      "outputs": [
        {
          "output_type": "stream",
          "name": "stdout",
          "text": [
            "Melhor: 0.8399171041724234 para {'n_estimators': 20}\n"
          ]
        }
      ]
    },
    {
      "cell_type": "code",
      "source": [
        "xgb_ros = XGBClassifier(learning_rate=0.1, n_estimators=20)\n",
        "\n",
        "param_grid = {\n",
        " 'max_depth':range(1,2,3),\n",
        " 'min_child_weight':range(1,3,3)\n",
        "}\n",
        "\n",
        "# identificar melhor parâmetro\n",
        "kfold = StratifiedKFold(n_splits=10, shuffle=True)\n",
        "grid_search = GridSearchCV(xgb_ros, param_grid, scoring=\"recall\", n_jobs=-1, cv=kfold)\n",
        "grid_result = grid_search.fit(X_ros, y_ros)\n",
        "\n",
        "# ver resultados\n",
        "print(\"Melhor: {} para {}\".format(grid_result.best_score_, grid_result.best_params_))"
      ],
      "metadata": {
        "colab": {
          "base_uri": "https://localhost:8080/"
        },
        "id": "VHLcj_Co6fyT",
        "outputId": "447b9da3-937b-4d19-d917-5a5cba110ea2"
      },
      "execution_count": null,
      "outputs": [
        {
          "output_type": "stream",
          "name": "stdout",
          "text": [
            "Melhor: 0.8304936907064567 para {'max_depth': 1, 'min_child_weight': 1}\n"
          ]
        }
      ]
    },
    {
      "cell_type": "code",
      "source": [
        "xgb_ros = XGBClassifier(learning_rate=0.1, n_estimators=20, max_depth=1, min_child_weight=1)\n",
        "\n",
        "param_grid = {\n",
        " 'gamma':[i/10.0 for i in range(0,5)]\n",
        "}\n",
        "\n",
        "# identificar melhor parâmetro\n",
        "kfold = StratifiedKFold(n_splits=10, shuffle=True)\n",
        "grid_search = GridSearchCV(xgb_ros, param_grid, scoring=\"recall\", n_jobs=-1, cv=kfold)\n",
        "grid_result = grid_search.fit(X_ros, y_ros)\n",
        "\n",
        "# ver resultados\n",
        "print(\"Melhor: {} para {}\".format(grid_result.best_score_, grid_result.best_params_))"
      ],
      "metadata": {
        "colab": {
          "base_uri": "https://localhost:8080/"
        },
        "id": "xvoxKgyk6zei",
        "outputId": "f8157a4c-9c72-45c8-fd81-0b19660568a9"
      },
      "execution_count": null,
      "outputs": [
        {
          "output_type": "stream",
          "name": "stdout",
          "text": [
            "Melhor: 0.8274707561941603 para {'gamma': 0.0}\n"
          ]
        }
      ]
    },
    {
      "cell_type": "code",
      "source": [
        "xgb_ros = XGBClassifier(n_estimators=20, max_depth=1, min_child_weight=1, gamma=0.0)\n",
        "\n",
        "param_grid = {\n",
        " 'learning_rate':[0.001, 0.01, 0.1, 1]\n",
        "}\n",
        "\n",
        "# identificar melhor parâmetro\n",
        "kfold = StratifiedKFold(n_splits=10, shuffle=True)\n",
        "grid_search = GridSearchCV(xgb_ros, param_grid, scoring=\"recall\", n_jobs=-1, cv=kfold)\n",
        "grid_result = grid_search.fit(X_ros, y_ros)\n",
        "\n",
        "# ver resultados\n",
        "print(\"Melhor: {} para {}\".format(grid_result.best_score_, grid_result.best_params_))"
      ],
      "metadata": {
        "colab": {
          "base_uri": "https://localhost:8080/"
        },
        "id": "4tSbYk2c69Nz",
        "outputId": "d0b86afd-eb45-454d-f237-6b686cd8100f"
      },
      "execution_count": null,
      "outputs": [
        {
          "output_type": "stream",
          "name": "stdout",
          "text": [
            "Melhor: 0.9055355991526206 para {'learning_rate': 0.001}\n"
          ]
        }
      ]
    },
    {
      "cell_type": "markdown",
      "source": [
        "##**Validação do modelo com os hiperparâmetros (SMOTE)**"
      ],
      "metadata": {
        "id": "N5Wa_sLl7W1F"
      }
    },
    {
      "cell_type": "code",
      "source": [
        "# modelo validação\n",
        "xgb_ros = XGBClassifier(learning_rate=0.001 , n_estimators=20, max_depth=1, min_child_weight=1, gamma=0.0)\n",
        "xgb_ros.fit(X_ros, y_ros)\n",
        "\n",
        "# fazer a previsão\n",
        "X_val_ros = scaler.transform(X_val)\n",
        "y_pred_ros = xgb_ros.predict(X_val_ros)\n",
        "\n",
        "# Classification Report\n",
        "print(classification_report(y_val, y_pred_ros))\n",
        "\n",
        "# imprimir a área sob a curva\n",
        "print(\"AUC: {:.4f}\\n\".format(roc_auc_score(y_val, y_pred_ros)))\n",
        "\n",
        "# plotar matriz de confusão\n",
        "plot_confusion_matrix(y_val, y_pred_ros, normalize=True)\n",
        "plt.show()"
      ],
      "metadata": {
        "colab": {
          "base_uri": "https://localhost:8080/",
          "height": 535
        },
        "id": "hmyzMonX7hf9",
        "outputId": "25379c08-49c2-4e59-a49e-da82e277cd19"
      },
      "execution_count": null,
      "outputs": [
        {
          "output_type": "stream",
          "name": "stdout",
          "text": [
            "              precision    recall  f1-score   support\n",
            "\n",
            "           0       0.93      0.58      0.71      1098\n",
            "           1       0.43      0.89      0.58       397\n",
            "\n",
            "    accuracy                           0.66      1495\n",
            "   macro avg       0.68      0.73      0.65      1495\n",
            "weighted avg       0.80      0.66      0.68      1495\n",
            "\n",
            "AUC: 0.7325\n",
            "\n"
          ]
        },
        {
          "output_type": "stream",
          "name": "stderr",
          "text": [
            "/usr/local/lib/python3.7/dist-packages/sklearn/base.py:451: UserWarning: X does not have valid feature names, but StandardScaler was fitted with feature names\n",
            "  \"X does not have valid feature names, but\"\n"
          ]
        },
        {
          "output_type": "display_data",
          "data": {
            "text/plain": [
              "<Figure size 432x288 with 2 Axes>"
            ],
            "image/png": "[encoded data removed]"
          },
          "metadata": {
            "needs_background": "light"
          }
        }
      ]
    },
    {
      "cell_type": "markdown",
      "source": [
        "Utilizando os dados de validação, e a técnica SMOTE, tivemos um desempenho similar ao encontrado na validação cruzada.\n",
        "* Validação Cruzada: Recall 85%\n",
        "* Dados de validação: Recall 89%\n",
        "\n",
        "Sendo assim, utilizaremos a técnica SMOTE para verificação dos dados de teste."
      ],
      "metadata": {
        "id": "QSo0OwcH_jjX"
      }
    },
    {
      "cell_type": "markdown",
      "source": [
        "##**Verificando o modelo com os dados de teste**"
      ],
      "metadata": {
        "id": "Tl-5JbBnA4GL"
      }
    },
    {
      "cell_type": "code",
      "source": [
        "# escolhendo o método de padronização\n",
        "teste = df_test.copy()\n",
        "\n",
        "X_teste = teste.drop('Churn', axis=1)\n",
        "y_teste = teste['Churn']\n",
        "\n",
        "X_teste = scaler.transform(X_teste)\n",
        "\n",
        "y_prev_teste = xgb_ros.predict(X_teste) \n",
        "\n",
        "# medidas de avaliação\n",
        "print(classification_report(y_teste, y_prev_teste, digits=4))\n",
        "# Acurácia\n",
        "print(\"AUC: {:.4f}\".format(roc_auc_score(y_teste, y_prev_teste)))\n",
        "# matriz de confusão\n",
        "plot_confusion_matrix(y_teste, y_prev_teste, normalize=True)"
      ],
      "metadata": {
        "colab": {
          "base_uri": "https://localhost:8080/",
          "height": 498
        },
        "id": "i5WC6IvBA_BX",
        "outputId": "d23e5867-26da-49f8-935b-9bdca3073635"
      },
      "execution_count": null,
      "outputs": [
        {
          "output_type": "stream",
          "name": "stdout",
          "text": [
            "              precision    recall  f1-score   support\n",
            "\n",
            "           0     0.9287    0.5731    0.7088       773\n",
            "           1     0.4291    0.8794    0.5767       282\n",
            "\n",
            "    accuracy                         0.6550      1055\n",
            "   macro avg     0.6789    0.7263    0.6428      1055\n",
            "weighted avg     0.7952    0.6550    0.6735      1055\n",
            "\n",
            "AUC: 0.7263\n"
          ]
        },
        {
          "output_type": "execute_result",
          "data": {
            "text/plain": [
              "<matplotlib.axes._subplots.AxesSubplot at 0x7f7358801150>"
            ]
          },
          "metadata": {},
          "execution_count": 117
        },
        {
          "output_type": "display_data",
          "data": {
            "text/plain": [
              "<Figure size 432x288 with 2 Axes>"
            ],
            "image/png": "[encoded data removed]"
          },
          "metadata": {
            "needs_background": "light"
          }
        }
      ]
    },
    {
      "cell_type": "markdown",
      "metadata": {
        "id": "sTqUkT4aw3vW"
      },
      "source": [
        "## **Conclusões**\n",
        "\n",
        "*   Os dados de teste foram verificados utilizando o modelo XGBoost, com a técnica de balanceamento SMOTE.\n",
        "\n",
        "*   Ao final dos testes feitos, o modelo obteve os resultados abaixo:\n",
        "  *   **Recall**: 87,9%\n",
        "  *   **Acurácia**: 65,5%\n",
        "  *   **AUC**: 72,6%\n",
        "\n",
        "\n",
        "* Tendo em vista que usamos como principal métrica o Recall, que é a capacidade do modelo de prever os cancelamentos, o modelo obteve um resultado satisfatório de 87,9%.\n",
        "\n",
        "* A acurária do modelo ficou em 65,5%, a qual representa a porcentagem de acertos do modelo.\n",
        "\n",
        "* A AUC teve como resultado 72,6%, ela indica a capacidade do modelo identificar entre os cancelamentos e os não cancelamentos.\n",
        "\n",
        "* Ainda há possibilidades de otimizar o modelo ainda mais, mas com o resultado obtido já é possível verificar formas de retenção dos possíveis clientes que efetuarão o cancelamento, evitando assim, prejuízos financeiros para a empresa de telecomunicações.\n",
        "\n",
        "* Aos clientes identificados como possíveis canceladores, a empresa poderia enviar um desconto antecipado, um brinde, etc. Além de procurar entender mais de perto, o motivo que pode levar um cliente a cancelar o serviço.\n"
      ]
    }
  ]
}